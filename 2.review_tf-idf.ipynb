{
 "cells": [
  {
   "cell_type": "code",
   "execution_count": 1,
   "metadata": {},
   "outputs": [
    {
     "name": "stderr",
     "output_type": "stream",
     "text": [
      "c:\\users\\lgty\\appdata\\local\\programs\\python\\python36\\lib\\site-packages\\konlpy\\tag\\_okt.py:16: UserWarning: \"Twitter\" has changed to \"Okt\" since KoNLPy v0.4.5.\n",
      "  warn('\"Twitter\" has changed to \"Okt\" since KoNLPy v0.4.5.')\n"
     ]
    }
   ],
   "source": [
    "import pandas as pd\n",
    "import numpy as np\n",
    "import matplotlib.pyplot as plt\n",
    "import json\n",
    "import statistics\n",
    "\n",
    "from konlpy.tag import Twitter\n",
    "from konlpy.utils import pprint\n",
    "twitter = Twitter()\n",
    "from collections import Counter\n",
    "\n",
    "pd.set_option('max_colwidth', 500)"
   ]
  },
  {
   "cell_type": "code",
   "execution_count": 3,
   "metadata": {
    "collapsed": true
   },
   "outputs": [],
   "source": [
    "go_data = concat_file(156)"
   ]
  },
  {
   "cell_type": "code",
   "execution_count": 3,
   "metadata": {},
   "outputs": [
    {
     "data": {
      "text/plain": [
       "772829"
      ]
     },
     "execution_count": 3,
     "metadata": {},
     "output_type": "execute_result"
    }
   ],
   "source": [
    "len(go_data)"
   ]
  },
  {
   "cell_type": "code",
   "execution_count": 4,
   "metadata": {
    "collapsed": true
   },
   "outputs": [],
   "source": [
    " # 소수점 아래 3자리까지 나타내기, 4째자리에서 반올림\n",
    "def short_float(val):\n",
    "    value = float(\"{:.4f}\".format(val))\n",
    "    return value\n"
   ]
  },
  {
   "cell_type": "code",
   "execution_count": 211,
   "metadata": {
    "collapsed": true
   },
   "outputs": [],
   "source": [
    "def print_group(title, groups, used_func):\n",
    "    pivot_num = 0.1\n",
    "    save_list = list()\n",
    "\n",
    "    pprint(title)\n",
    "    cur_num = 0.0\n",
    "    for i, group in enumerate(groups):\n",
    "        save_list.append(used_func(group))\n",
    "        print('group ' + str(i + 1) + ' = ' + str(float(\"{:.1f}\".format(cur_num))) + str(' over ') + str(\n",
    "            float(\"{:.1f}\".format(cur_num + pivot_num))) + str(' under : '), save_list[i])\n",
    "        cur_num += pivot_num\n",
    "    print('\\n')\n",
    "\n",
    "    return save_list"
   ]
  },
  {
   "cell_type": "code",
   "execution_count": 5,
   "metadata": {
    "collapsed": true
   },
   "outputs": [],
   "source": [
    "import pandas as pd\n",
    "import numpy as np\n",
    "np.random.seed(0)\n",
    "from konlpy.tag import Twitter\n",
    "from sklearn.metrics.pairwise import linear_kernel, cosine_similarity\n",
    "\n",
    "twitter=Twitter()\n",
    "from sklearn.feature_extraction.text import TfidfVectorizer, CountVectorizer"
   ]
  },
  {
   "cell_type": "code",
   "execution_count": 475,
   "metadata": {
    "collapsed": true
   },
   "outputs": [],
   "source": [
    "# tokenizer : 문장에서 색인어 추출을 위해 정해진 품사의 단어만 뽑아서 normalization, stemming 처리하도록 함\n",
    "def token(raw, pos=[\"Noun\",\"Alpha\",\"Verb\",\"Number\",\"Adjective\",\"KoreanParticle\",\n",
    "                        \"Punctuation\",\"Determiner\", \"Adverb\", \"Conjunction\",\"Excalmation\", \"Foreign\"], stopword=[]):\n",
    "    return [\n",
    "        word for word, tag in twitter.pos(\n",
    "            raw, \n",
    "            norm=True,   # normalize 그랰ㅋㅋ -> 그래ㅋㅋ\n",
    "            stem=True    # stemming 바뀌나->바뀌다\n",
    "            )\n",
    "        \n",
    "          if len(word) >=1 and tag in pos and word not in stopword\n",
    "\n",
    "        ]\n",
    "\n"
   ]
  },
  {
   "cell_type": "code",
   "execution_count": 481,
   "metadata": {},
   "outputs": [
    {
     "name": "stdout",
     "output_type": "stream",
     "text": [
      "fit_transform, (No.review 2, feature 16)\n",
      "          !      ~~!!         개        구매         두        받다        사은   생각  \\\n",
      "0  0.288675  0.288675  0.288675  0.288675  0.288675  0.288675  0.288675  0.0   \n",
      "1  0.000000  0.000000  0.000000  0.000000  0.000000  0.000000  0.000000  0.5   \n",
      "\n",
      "      써보딘않앗        아직   약간  예쁘다        용다        자다   짧다         품  \n",
      "0  0.288675  0.288675  0.0  0.0  0.288675  0.288675  0.0  0.288675  \n",
      "1  0.000000  0.000000  0.5  0.5  0.000000  0.000000  0.5  0.000000  \n"
     ]
    },
    {
     "data": {
      "text/plain": [
       "array([[0.28867513, 0.28867513, 0.28867513, 0.28867513, 0.28867513,\n",
       "        0.28867513, 0.28867513, 0.        , 0.28867513, 0.28867513,\n",
       "        0.        , 0.        , 0.28867513, 0.28867513, 0.        ,\n",
       "        0.28867513],\n",
       "       [0.        , 0.        , 0.        , 0.        , 0.        ,\n",
       "        0.        , 0.        , 0.5       , 0.        , 0.        ,\n",
       "        0.5       , 0.5       , 0.        , 0.        , 0.5       ,\n",
       "        0.        ]])"
      ]
     },
     "execution_count": 481,
     "metadata": {},
     "output_type": "execute_result"
    }
   ],
   "source": [
    "d=[u'두개구매하고 사은품으로 받앗어요! 아직 써보딘않앗지만 잘사용하겟습니다~~!!',u'예쁜데 생각보다 약간 짧네요']\n",
    "arr=tfidf(d)\n",
    "arr"
   ]
  },
  {
   "cell_type": "code",
   "execution_count": 451,
   "metadata": {
    "collapsed": true
   },
   "outputs": [],
   "source": [
    "vectorize= TfidfVectorizer(\n",
    "    tokenizer=token,\n",
    "    sublinear_tf=True    # tf값에 1+log(tf)를 적용하여 tf값이 무한정 커지는 것을 막음\n",
    ")"
   ]
  },
  {
   "cell_type": "code",
   "execution_count": 446,
   "metadata": {
    "collapsed": true
   },
   "outputs": [],
   "source": [
    "# 1.\n",
    "#reviewer의 desc를 담는 리스트\n",
    "def make_reviews(cid):\n",
    "    desc=(go_data.loc[go_data['cId']==cid])['desc']\n",
    "    desc=list(desc)\n",
    "    \n",
    "    return desc\n"
   ]
  },
  {
   "cell_type": "code",
   "execution_count": 494,
   "metadata": {
    "collapsed": true
   },
   "outputs": [],
   "source": [
    "#2. 리뷰들을 tf-idf 적용하여 벡터화\n",
    "def tfidf(desc):\n",
    "    X = vectorize.fit_transform(desc)\n",
    "    print('fit_transform, (No.review {}, feature {})'.format(X.shape[0], X.shape[1]))\n",
    "    features = vectorize.get_feature_names()\n",
    "    \n",
    "  #  print (pd.DataFrame(data=X.toarray(), columns=features))\n",
    "    vector_array=X.toarray()\n",
    "    \n",
    "    return vector_array"
   ]
  },
  {
   "cell_type": "code",
   "execution_count": 495,
   "metadata": {
    "collapsed": true
   },
   "outputs": [],
   "source": [
    "#3. 유사도 구하기222222222\n",
    "def similarity(vector_arr,desc):   \n",
    "    sm=[] #한 리뷰어의 리뷰 유사도를 담을 리스트\n",
    "    max_cnt=0 #리뷰 유사도 최대값이 0.9 이상 count\n",
    "    _sum=0\n",
    "    _mid=0\n",
    "    cnt=0\n",
    "    for i in range(len(desc)-1):\n",
    "        srch_vector= vectorize.transform([desc[i]])\n",
    "        for j in range(i+1, len(desc)):\n",
    "            cosine_similar =cosine_similarity(srch_vector, [vector_arr[j]]).flatten()\n",
    "            cosine_similar=short_float(float(cosine_similar))\n",
    "            print (\"cosine_similar \") + str(i+1) + str(' 번째 리뷰와') + str(j+1) + str(' 번째 리뷰 : ') + str(cosine_similar)\n",
    "            sm.append(cosine_similar)\n",
    "\n",
    "\n",
    "   # pprint(u'유사도 리스트'),;print (sm)\n",
    "\n",
    "    sm.sort(reverse=True)\n",
    "    _min=min(sm)\n",
    "    _mid=statistics.median(sm) # 유사도의 중간값\n",
    "    _max=max(sm)\n",
    "    _sum=sum(sm)\n",
    "\n",
    "    if(_max>=0.9):\n",
    "        max_cnt+=1\n",
    "        \n",
    "    avg= short_float(_sum/len(sm))\n",
    "    \n",
    "    \n",
    "  #  print ('min : ', _min)\n",
    "  #  print ('mid : ', _mid)\n",
    "  #  print('max : ', _max)\n",
    "    print('avg : ', avg)\n",
    "   # print('num of 1 : ', cnt)\n",
    "    print('# similarity over 0.9 : ', max_cnt)\n",
    "    \n",
    "    return sm\n"
   ]
  },
  {
   "cell_type": "code",
   "execution_count": 272,
   "metadata": {
    "collapsed": true
   },
   "outputs": [],
   "source": [
    "def make_groups(_list):\n",
    "    group1=0\n",
    "    group2=0\n",
    "    group3=0\n",
    "    group4=0\n",
    "    group5=0\n",
    "    group6=0\n",
    "    group7=0\n",
    "    group8=0\n",
    "    group9=0\n",
    "    group10=0\n",
    "    \n",
    "    for i in range(len(_list)):\n",
    "        if(_list[i]<0.1):\n",
    "            group1+=1\n",
    "        elif(_list[i]>=0.1 and _list[i]< 0.2):\n",
    "            group2+=1\n",
    "        elif(_list[i] >=0.2 and _list[i]< 0.3):\n",
    "            group3+=1\n",
    "        elif(_list[i] >=0.3 and _list[i]< 0.4):\n",
    "            group4+=1\n",
    "        elif(_list[i]>=0.4 and _list[i]< 0.5):\n",
    "            group5+=1\n",
    "        elif(_list[i]>=0.5 and _list[i] < 0.6):\n",
    "            group6+=1\n",
    "        elif(_list[i]>=0.6 and _list[i] < 0.7):\n",
    "            group7+=1\n",
    "        elif(_list[i]>=0.7 and _list[i]< 0.8):\n",
    "            group8+=1\n",
    "        elif(_list[i]>=0.8 and _list[i]< 0.9):\n",
    "            group9+=1\n",
    "        elif(_list[i]>=0.9):\n",
    "            group10+=1\n",
    "        \n",
    "    groups=[group1, group2, group3, group4, group5, group6,group7,group8,group9,group10 ]\n",
    "    \n",
    "    return groups"
   ]
  },
  {
   "cell_type": "code",
   "execution_count": 261,
   "metadata": {
    "collapsed": true
   },
   "outputs": [],
   "source": [
    "def print_want_val(sm_list,used_func):\n",
    "    val=(used_func(sm_list))\n",
    "   \n",
    "    return val"
   ]
  },
  {
   "cell_type": "code",
   "execution_count": 504,
   "metadata": {},
   "outputs": [
    {
     "name": "stdout",
     "output_type": "stream",
     "text": [
      "1번째 리뷰어: slvj**\n",
      "fit_transform, (No.review 10, feature 138)\n",
      "cosine_similar 1 번째 리뷰와2 번째 리뷰 : 0.1218\n",
      "cosine_similar 1 번째 리뷰와3 번째 리뷰 : 0.1817\n",
      "cosine_similar 1 번째 리뷰와4 번째 리뷰 : 0.0396\n",
      "cosine_similar 1 번째 리뷰와5 번째 리뷰 : 0.0838\n",
      "cosine_similar 1 번째 리뷰와6 번째 리뷰 : 0.0482\n",
      "cosine_similar 1 번째 리뷰와7 번째 리뷰 : 0.063\n",
      "cosine_similar 1 번째 리뷰와8 번째 리뷰 : 0.1647\n",
      "cosine_similar 1 번째 리뷰와9 번째 리뷰 : 0.0328\n",
      "cosine_similar 1 번째 리뷰와10 번째 리뷰 : 0.0702\n",
      "cosine_similar 2 번째 리뷰와3 번째 리뷰 : 0.1699\n",
      "cosine_similar 2 번째 리뷰와4 번째 리뷰 : 0.067\n",
      "cosine_similar 2 번째 리뷰와5 번째 리뷰 : 0.0653\n",
      "cosine_similar 2 번째 리뷰와6 번째 리뷰 : 0.0932\n",
      "cosine_similar 2 번째 리뷰와7 번째 리뷰 : 0.0384\n",
      "cosine_similar 2 번째 리뷰와8 번째 리뷰 : 0.2138\n",
      "cosine_similar 2 번째 리뷰와9 번째 리뷰 : 0.0737\n",
      "cosine_similar 2 번째 리뷰와10 번째 리뷰 : 0.1623\n",
      "cosine_similar 3 번째 리뷰와4 번째 리뷰 : 0.0208\n",
      "cosine_similar 3 번째 리뷰와5 번째 리뷰 : 0.113\n",
      "cosine_similar 3 번째 리뷰와6 번째 리뷰 : 0.0483\n",
      "cosine_similar 3 번째 리뷰와7 번째 리뷰 : 0.0308\n",
      "cosine_similar 3 번째 리뷰와8 번째 리뷰 : 0.2528\n",
      "cosine_similar 3 번째 리뷰와9 번째 리뷰 : 0.0773\n",
      "cosine_similar 3 번째 리뷰와10 번째 리뷰 : 0.0986\n",
      "cosine_similar 4 번째 리뷰와5 번째 리뷰 : 0.0673\n",
      "cosine_similar 4 번째 리뷰와6 번째 리뷰 : 0.1146\n",
      "cosine_similar 4 번째 리뷰와7 번째 리뷰 : 0.0676\n",
      "cosine_similar 4 번째 리뷰와8 번째 리뷰 : 0.1329\n",
      "cosine_similar 4 번째 리뷰와9 번째 리뷰 : 0.0713\n",
      "cosine_similar 4 번째 리뷰와10 번째 리뷰 : 0.0236\n",
      "cosine_similar 5 번째 리뷰와6 번째 리뷰 : 0.0449\n",
      "cosine_similar 5 번째 리뷰와7 번째 리뷰 : 0.0384\n",
      "cosine_similar 5 번째 리뷰와8 번째 리뷰 : 0.0806\n",
      "cosine_similar 5 번째 리뷰와9 번째 리뷰 : 0.0625\n",
      "cosine_similar 5 번째 리뷰와10 번째 리뷰 : 0.0652\n",
      "cosine_similar 6 번째 리뷰와7 번째 리뷰 : 0.0193\n",
      "cosine_similar 6 번째 리뷰와8 번째 리뷰 : 0.0429\n",
      "cosine_similar 6 번째 리뷰와9 번째 리뷰 : 0.03\n",
      "cosine_similar 6 번째 리뷰와10 번째 리뷰 : 0.1526\n",
      "cosine_similar 7 번째 리뷰와8 번째 리뷰 : 0.0863\n",
      "cosine_similar 7 번째 리뷰와9 번째 리뷰 : 0.0516\n",
      "cosine_similar 7 번째 리뷰와10 번째 리뷰 : 0.1237\n",
      "cosine_similar 8 번째 리뷰와9 번째 리뷰 : 0.1134\n",
      "cosine_similar 8 번째 리뷰와10 번째 리뷰 : 0.1749\n",
      "cosine_similar 9 번째 리뷰와10 번째 리뷰 : 0.1317\n",
      "('avg : ', 0.0895)\n",
      "('# similarity over 0.9 : ', 0)\n",
      "('max: ', 0.2528)\n",
      "('3rd quartile: ', 0.1218)\n",
      "('median: ', 0.0713)\n",
      "('1st quartile: ', 0.0482)\n",
      "0.08947333333333335\n",
      "\n",
      "\n"
     ]
    }
   ],
   "source": [
    "for i in range(1):\n",
    "    print str(i+1) + str('번째 리뷰어: ')+ str('slvj**')\n",
    "    reviews=make_reviews('slvj**')\n",
    "    if(len(reviews)<2):\n",
    "        continue\n",
    "    vector_array=tfidf(reviews)\n",
    "    sm=similarity(vector_array, reviews)\n",
    "\n",
    "  \n",
    "    result_max= print_want_val(sm, lambda x: np.percentile(sm,100)) # 최대값 반환 \n",
    "    print (\"max: \", result_max)\n",
    "    \n",
    "    result_q3 = print_want_val(sm, lambda x: np.percentile(sm,75)) #상위 25%\n",
    "    print(\"3rd quartile: \", result_q3)   \n",
    "    \n",
    "    \n",
    "    result_mid = print_want_val(sm, lambda x: np.percentile(sm,50)) # 중간값 반환 \n",
    "    print (\"median: \", result_mid)\n",
    "   \n",
    "    \n",
    "    result_q1 = print_want_val(sm, lambda x: np.percentile(sm,25)) # 상위 75%\n",
    "    print(\"1st quartile: \", result_q1)\n",
    "  \n",
    "    print(np.mean(sm))\n",
    "\n",
    "    print(\"\\n\")\n",
    "    "
   ]
  },
  {
   "cell_type": "markdown",
   "metadata": {},
   "source": [
    "    유사도 분포도 - 유사도 최대값 , 중간값, 상위 25%(q3), 상위 75%(q1)\n",
    "    \n",
    "    sapmmer : 리뷰어들의 cid가 있는 리스트"
   ]
  },
  {
   "cell_type": "code",
   "execution_count": 173,
   "metadata": {
    "scrolled": true
   },
   "outputs": [
    {
     "data": {
      "text/plain": [
       "26"
      ]
     },
     "execution_count": 173,
     "metadata": {},
     "output_type": "execute_result"
    }
   ],
   "source": [
    "len(spammer)"
   ]
  },
  {
   "cell_type": "code",
   "execution_count": null,
   "metadata": {},
   "outputs": [],
   "source": [
    "max_list=[]\n",
    "mid_list=[]\n",
    "q1_list=[]\n",
    "q3_list=[]\n",
    "\n",
    "for i in range(len(spammer)):\n",
    "    print str(i+1) + str('번째 리뷰어: ')+ str(spammer[i])\n",
    "    reviews=make_reviews(spammer[i])\n",
    "    if(len(reviews)<2):\n",
    "        continue\n",
    "    vector_array=tfidf(reviews)\n",
    "    sm=similarity(vector_array, reviews)\n",
    "\n",
    "  \n",
    "    result_max= print_want_val(sm, lambda x: np.percentile(sm,100)) # 최대값 반환 \n",
    "    print (\"max: \", result_max)\n",
    "    max_list.append(result_max)\n",
    "    \n",
    "    result_mid = print_want_val(sm, lambda x: np.percentile(sm,50)) # 중간값 반환 \n",
    "    print (\"median: \", result_mid)\n",
    "    mid_list.append(result_mid)\n",
    "    \n",
    "    result_q1 = print_want_val(sm, lambda x: np.percentile(sm,25)) # 상위 75%\n",
    "    print(\"1st quartile: \", result_q1)\n",
    "    q1_list.append(result_q1)\n",
    "    \n",
    "    result_q3 = print_want_val(sm, lambda x: np.percentile(sm,75)) #상위 25%\n",
    "    print(\"3rd quartile: \", result_q3)         \n",
    "    q3_list.append(result_q3)\n",
    "\n",
    "\n",
    "    print(\"\\n\")\n",
    "    \n",
    "groups_max=make_groups(max_list)\n",
    "groups_mid=make_groups(mid_list)\n",
    "groups_q1=make_groups(q1_list)\n",
    "groups_q3=make_groups(q3_list)"
   ]
  },
  {
   "cell_type": "code",
   "execution_count": 381,
   "metadata": {},
   "outputs": [
    {
     "data": {
      "image/png": "[encoded data removed]",
      "text/plain": [
       "<Figure size 432x288 with 1 Axes>"
      ]
     },
     "metadata": {},
     "output_type": "display_data"
    }
   ],
   "source": [
    "x=np.arange(len(max_list))\n",
    "y=sorted(max_list)\n",
    "\n",
    "plt.plot(x,y,color='red',marker='o',linestyle='solid')\n",
    "plt.title('max of similarity')\n",
    "plt.xlabel(\"# of reviewer\")\n",
    "plt.ylabel(\"similarity\")\n",
    "plt.xticks(np.arange(len(x)),x,rotation=45)\n",
    "plt.show()"
   ]
  },
  {
   "cell_type": "code",
   "execution_count": 382,
   "metadata": {},
   "outputs": [
    {
     "data": {
      "image/png": "[encoded data removed]",
      "text/plain": [
       "<Figure size 432x288 with 1 Axes>"
      ]
     },
     "metadata": {},
     "output_type": "display_data"
    }
   ],
   "source": [
    "x=np.arange(len(q3_list))\n",
    "y=sorted(q3_list)\n",
    "\n",
    "plt.plot(x,y,color='red',marker='o',linestyle='solid')\n",
    "plt.title('3rd quartile of similarity')\n",
    "plt.xlabel(\"# of reviewer\")\n",
    "plt.ylabel(\"similarity\")\n",
    "plt.xticks(np.arange(len(x)),x,rotation=45)\n",
    "plt.show()"
   ]
  },
  {
   "cell_type": "code",
   "execution_count": 383,
   "metadata": {},
   "outputs": [
    {
     "data": {
      "image/png": "[encoded data removed]",
      "text/plain": [
       "<Figure size 432x288 with 1 Axes>"
      ]
     },
     "metadata": {},
     "output_type": "display_data"
    }
   ],
   "source": [
    "x=np.arange(len(mid_list))\n",
    "y=sorted(mid_list)\n",
    "\n",
    "plt.plot(x,y,color='red',marker='o',linestyle='solid')\n",
    "plt.title('median of similarity')\n",
    "plt.xlabel(\"# of reviewer\")\n",
    "plt.ylabel(\"median similarity\")\n",
    "plt.xticks(np.arange(len(x)),x,rotation=45)\n",
    "plt.show()"
   ]
  },
  {
   "cell_type": "code",
   "execution_count": 384,
   "metadata": {
    "scrolled": false
   },
   "outputs": [
    {
     "data": {
      "image/png": "[encoded data removed]",
      "text/plain": [
       "<Figure size 432x288 with 1 Axes>"
      ]
     },
     "metadata": {},
     "output_type": "display_data"
    }
   ],
   "source": [
    "x=np.arange(len(q1_list))\n",
    "y=sorted(q1_list)\n",
    "\n",
    "plt.plot(x,y,color='red',marker='o',linestyle='solid')\n",
    "plt.title('1st quartile of similarity')\n",
    "plt.xlabel(\"# of reviewer\")\n",
    "plt.ylabel(\"similarity\")\n",
    "plt.xticks(np.arange(len(x)),x,rotation=45)\n",
    "plt.show()"
   ]
  },
  {
   "cell_type": "code",
   "execution_count": 282,
   "metadata": {},
   "outputs": [
    {
     "data": {
      "text/plain": [
       "[22, 4, 0, 0, 0, 0, 0, 0, 0, 0]"
      ]
     },
     "execution_count": 282,
     "metadata": {},
     "output_type": "execute_result"
    }
   ],
   "source": [
    "groups_mid"
   ]
  },
  {
   "cell_type": "code",
   "execution_count": 395,
   "metadata": {
    "scrolled": true
   },
   "outputs": [
    {
     "name": "stdout",
     "output_type": "stream",
     "text": [
      "해당 그룹별 spammer 수\n",
      "('group 1 = 0.0 over 0.1 under : ', 0)\n",
      "('group 2 = 0.1 over 0.2 under : ', 0)\n",
      "('group 3 = 0.2 over 0.3 under : ', 0)\n",
      "('group 4 = 0.3 over 0.4 under : ', 1)\n",
      "('group 5 = 0.4 over 0.5 under : ', 2)\n",
      "('group 6 = 0.5 over 0.6 under : ', 3)\n",
      "('group 7 = 0.6 over 0.7 under : ', 3)\n",
      "('group 8 = 0.7 over 0.8 under : ', 2)\n",
      "('group 9 = 0.8 over 0.9 under : ', 2)\n",
      "('group 10 = 0.9 over 1.0 under : ', 13)\n",
      "\n",
      "\n",
      "해당 그룹별 spammer 비율\n",
      "('group 1 = 0.0 over 0.1 under : ', 0.0)\n",
      "('group 2 = 0.1 over 0.2 under : ', 0.0)\n",
      "('group 3 = 0.2 over 0.3 under : ', 0.0)\n",
      "('group 4 = 0.3 over 0.4 under : ', 3.8)\n",
      "('group 5 = 0.4 over 0.5 under : ', 7.7)\n",
      "('group 6 = 0.5 over 0.6 under : ', 11.5)\n",
      "('group 7 = 0.6 over 0.7 under : ', 11.5)\n",
      "('group 8 = 0.7 over 0.8 under : ', 7.7)\n",
      "('group 9 = 0.8 over 0.9 under : ', 7.7)\n",
      "('group 10 = 0.9 over 1.0 under : ', 50.0)\n",
      "\n",
      "\n"
     ]
    }
   ],
   "source": [
    "result_len = print_group(u'해당 그룹별 spammer 수', groups_max, lambda x: x)\n",
    "result_ratio = print_group(u'해당 그룹별 spammer 비율', groups_max, lambda x: float(\"{:.1f}\".format(1.0 * (x) * 100 / len(spammer))))"
   ]
  },
  {
   "cell_type": "code",
   "execution_count": 396,
   "metadata": {},
   "outputs": [
    {
     "data": {
      "image/png": "[encoded data removed]",
      "text/plain": [
       "<Figure size 432x288 with 1 Axes>"
      ]
     },
     "metadata": {},
     "output_type": "display_data"
    },
    {
     "data": {
      "image/png": "[encoded data removed]",
      "text/plain": [
       "<Figure size 432x288 with 1 Axes>"
      ]
     },
     "metadata": {},
     "output_type": "display_data"
    }
   ],
   "source": [
    "x=[u'0.1 under',u'0.1~0.2',u'0.2~0.3',u'0.3~0.4',u'0.4~0.5',u'0.5~0.6',u'0.6~0.7',u'0.7~0.8',u'0.8~0.9',u'0.9 over']\n",
    "y=result_len\n",
    "labels=y\n",
    "\n",
    "plt.plot(x,y,color='green',marker='o',linestyle='solid')\n",
    "plt.title('max of review similarity')\n",
    "plt.xlabel(\"similarity\")\n",
    "plt.ylabel(\"number of reviewer\")\n",
    "plt.xticks(np.arange(len(x)),x,rotation=45)\n",
    "for label, x_count, y_count in zip(labels, x, y):\n",
    "    plt.annotate(label,\n",
    "                 xy=(x_count, y_count), #label을 데이터포인트에 두되\n",
    "                 xytext=(3,-9), # 약간 떨어져 있게\n",
    "                 textcoords='offset points')\n",
    "plt.show()\n",
    "\n",
    "x=[u'0.1 under',u'0.1~0.2',u'0.2~0.3',u'0.3~0.4',u'0.4~0.5',u'0.5~0.6',u'0.6~0.7',u'0.7~0.8',u'0.8~0.9',u'0.9 over']\n",
    "y=result_ratio\n",
    "labels=y\n",
    "    \n",
    "plt.plot(x,y,color='blue',marker='o',linestyle='solid')\n",
    "plt.title('max of review similarity')\n",
    "plt.xlabel(\"similarity\")\n",
    "plt.ylabel(\"number of reviewer (%)\")\n",
    "plt.xticks(np.arange(len(x)),x,rotation=45)\n",
    "for label, x_count, y_count in zip(labels, x, y):\n",
    "    plt.annotate(label,\n",
    "                 xy=(x_count, y_count), #label을 데이터포인트에 두되\n",
    "                 xytext=(4,-7), # 약간 떨어져 있게\n",
    "                 textcoords='offset points')\n",
    "plt.show()"
   ]
  },
  {
   "cell_type": "code",
   "execution_count": 387,
   "metadata": {},
   "outputs": [
    {
     "name": "stdout",
     "output_type": "stream",
     "text": [
      "해당 그룹별 spammer 수\n",
      "('group 1 = 0.0 over 0.1 under : ', 9)\n",
      "('group 2 = 0.1 over 0.2 under : ', 17)\n",
      "('group 3 = 0.2 over 0.3 under : ', 0)\n",
      "('group 4 = 0.3 over 0.4 under : ', 0)\n",
      "('group 5 = 0.4 over 0.5 under : ', 0)\n",
      "('group 6 = 0.5 over 0.6 under : ', 0)\n",
      "('group 7 = 0.6 over 0.7 under : ', 0)\n",
      "('group 8 = 0.7 over 0.8 under : ', 0)\n",
      "('group 9 = 0.8 over 0.9 under : ', 0)\n",
      "('group 10 = 0.9 over 1.0 under : ', 0)\n",
      "\n",
      "\n",
      "해당 그룹별 spammer 비율\n",
      "('group 1 = 0.0 over 0.1 under : ', 34.6)\n",
      "('group 2 = 0.1 over 0.2 under : ', 65.4)\n",
      "('group 3 = 0.2 over 0.3 under : ', 0.0)\n",
      "('group 4 = 0.3 over 0.4 under : ', 0.0)\n",
      "('group 5 = 0.4 over 0.5 under : ', 0.0)\n",
      "('group 6 = 0.5 over 0.6 under : ', 0.0)\n",
      "('group 7 = 0.6 over 0.7 under : ', 0.0)\n",
      "('group 8 = 0.7 over 0.8 under : ', 0.0)\n",
      "('group 9 = 0.8 over 0.9 under : ', 0.0)\n",
      "('group 10 = 0.9 over 1.0 under : ', 0.0)\n",
      "\n",
      "\n"
     ]
    }
   ],
   "source": [
    "result_len = print_group(u'해당 그룹별 spammer 수', groups_q3, lambda x: x)\n",
    "result_ratio = print_group(u'해당 그룹별 spammer 비율', groups_q3, lambda x: float(\"{:.1f}\".format(1.0 * (x) * 100 / len(spammer))))"
   ]
  },
  {
   "cell_type": "code",
   "execution_count": 388,
   "metadata": {},
   "outputs": [
    {
     "data": {
      "image/png": "[encoded data removed]",
      "text/plain": [
       "<Figure size 432x288 with 1 Axes>"
      ]
     },
     "metadata": {},
     "output_type": "display_data"
    },
    {
     "data": {
      "image/png": "[encoded data removed]",
      "text/plain": [
       "<Figure size 432x288 with 1 Axes>"
      ]
     },
     "metadata": {},
     "output_type": "display_data"
    }
   ],
   "source": [
    "x=[u'0.1 under',u'0.1~0.2',u'0.2~0.3',u'0.3~0.4',u'0.4~0.5',u'0.5~0.6',u'0.6~0.7',u'0.7~0.8',u'0.8~0.9',u'0.9 over']\n",
    "y=result_len\n",
    "labels=y\n",
    "\n",
    "plt.plot(x,y,color='green',marker='o',linestyle='solid')\n",
    "plt.title('3rd quartile of review similarity')\n",
    "plt.xlabel(\"similarity\")\n",
    "plt.ylabel(\"number of reviewer\")\n",
    "plt.xticks(np.arange(len(x)),x,rotation=45)\n",
    "for label, x_count, y_count in zip(labels, x, y):\n",
    "    plt.annotate(label,\n",
    "                 xy=(x_count, y_count), #label을 데이터포인트에 두되\n",
    "                 xytext=(3,-9), # 약간 떨어져 있게\n",
    "                 textcoords='offset points')\n",
    "plt.show()\n",
    "\n",
    "x=[u'0.1 under',u'0.1~0.2',u'0.2~0.3',u'0.3~0.4',u'0.4~0.5',u'0.5~0.6',u'0.6~0.7',u'0.7~0.8',u'0.8~0.9',u'0.9 over']\n",
    "y=result_ratio\n",
    "labels=y\n",
    "    \n",
    "plt.plot(x,y,color='blue',marker='o',linestyle='solid')\n",
    "plt.title('3rd quartile of review similarity')\n",
    "plt.xlabel(\"similarity\")\n",
    "plt.ylabel(\"number of reviewer (%)\")\n",
    "plt.xticks(np.arange(len(x)),x,rotation=45)\n",
    "for label, x_count, y_count in zip(labels, x, y):\n",
    "    plt.annotate(label,\n",
    "                 xy=(x_count, y_count), #label을 데이터포인트에 두되\n",
    "                 xytext=(4,-7), # 약간 떨어져 있게\n",
    "                 textcoords='offset points')\n",
    "plt.show()"
   ]
  },
  {
   "cell_type": "code",
   "execution_count": 389,
   "metadata": {},
   "outputs": [
    {
     "name": "stdout",
     "output_type": "stream",
     "text": [
      "해당 그룹별 spammer 수\n",
      "('group 1 = 0.0 over 0.1 under : ', 22)\n",
      "('group 2 = 0.1 over 0.2 under : ', 4)\n",
      "('group 3 = 0.2 over 0.3 under : ', 0)\n",
      "('group 4 = 0.3 over 0.4 under : ', 0)\n",
      "('group 5 = 0.4 over 0.5 under : ', 0)\n",
      "('group 6 = 0.5 over 0.6 under : ', 0)\n",
      "('group 7 = 0.6 over 0.7 under : ', 0)\n",
      "('group 8 = 0.7 over 0.8 under : ', 0)\n",
      "('group 9 = 0.8 over 0.9 under : ', 0)\n",
      "('group 10 = 0.9 over 1.0 under : ', 0)\n",
      "\n",
      "\n",
      "해당 그룹별 spammer 비율\n",
      "('group 1 = 0.0 over 0.1 under : ', 84.6)\n",
      "('group 2 = 0.1 over 0.2 under : ', 15.4)\n",
      "('group 3 = 0.2 over 0.3 under : ', 0.0)\n",
      "('group 4 = 0.3 over 0.4 under : ', 0.0)\n",
      "('group 5 = 0.4 over 0.5 under : ', 0.0)\n",
      "('group 6 = 0.5 over 0.6 under : ', 0.0)\n",
      "('group 7 = 0.6 over 0.7 under : ', 0.0)\n",
      "('group 8 = 0.7 over 0.8 under : ', 0.0)\n",
      "('group 9 = 0.8 over 0.9 under : ', 0.0)\n",
      "('group 10 = 0.9 over 1.0 under : ', 0.0)\n",
      "\n",
      "\n"
     ]
    }
   ],
   "source": [
    "result_len = print_group(u'해당 그룹별 spammer 수', groups_mid, lambda x: x)\n",
    "result_ratio = print_group(u'해당 그룹별 spammer 비율', groups_mid, lambda x: float(\"{:.1f}\".format(1.0 * (x) * 100 / len(spammer))))"
   ]
  },
  {
   "cell_type": "code",
   "execution_count": 390,
   "metadata": {},
   "outputs": [
    {
     "data": {
      "image/png": "[encoded data removed]",
      "text/plain": [
       "<Figure size 432x288 with 1 Axes>"
      ]
     },
     "metadata": {},
     "output_type": "display_data"
    },
    {
     "data": {
      "image/png": "[encoded data removed]",
      "text/plain": [
       "<Figure size 432x288 with 1 Axes>"
      ]
     },
     "metadata": {},
     "output_type": "display_data"
    }
   ],
   "source": [
    "x=[u'0.1 under',u'0.1~0.2',u'0.2~0.3',u'0.3~0.4',u'0.4~0.5',u'0.5~0.6',u'0.6~0.7',u'0.7~0.8',u'0.8~0.9',u'0.9 over']\n",
    "y=result_len\n",
    "labels=y\n",
    "\n",
    "plt.plot(x,y,color='green',marker='o',linestyle='solid')\n",
    "plt.title('median of review similarity')\n",
    "plt.xlabel(\"similarity\")\n",
    "plt.ylabel(\"number of reviewer\")\n",
    "plt.xticks(np.arange(len(x)),x,rotation=45)\n",
    "for label, x_count, y_count in zip(labels, x, y):\n",
    "    plt.annotate(label,\n",
    "                 xy=(x_count, y_count), #label을 데이터포인트에 두되\n",
    "                 xytext=(3,-9), # 약간 떨어져 있게\n",
    "                 textcoords='offset points')\n",
    "plt.show()\n",
    "\n",
    "x=[u'0.1 under',u'0.1~0.2',u'0.2~0.3',u'0.3~0.4',u'0.4~0.5',u'0.5~0.6',u'0.6~0.7',u'0.7~0.8',u'0.8~0.9',u'0.9 over']\n",
    "y=result_ratio\n",
    "labels=y\n",
    "    \n",
    "plt.plot(x,y,color='blue',marker='o',linestyle='solid')\n",
    "plt.title('meidan of review similarity')\n",
    "plt.xlabel(\"similarity\")\n",
    "plt.ylabel(\"number of reviewer (%)\")\n",
    "plt.xticks(np.arange(len(x)),x,rotation=45)\n",
    "for label, x_count, y_count in zip(labels, x, y):\n",
    "    plt.annotate(label,\n",
    "                 xy=(x_count, y_count), #label을 데이터포인트에 두되\n",
    "                 xytext=(4,-7), # 약간 떨어져 있게\n",
    "                 textcoords='offset points')\n",
    "plt.show()"
   ]
  },
  {
   "cell_type": "code",
   "execution_count": 391,
   "metadata": {},
   "outputs": [
    {
     "name": "stdout",
     "output_type": "stream",
     "text": [
      "해당 그룹별 spammer 수\n",
      "('group 1 = 0.0 over 0.1 under : ', 26)\n",
      "('group 2 = 0.1 over 0.2 under : ', 0)\n",
      "('group 3 = 0.2 over 0.3 under : ', 0)\n",
      "('group 4 = 0.3 over 0.4 under : ', 0)\n",
      "('group 5 = 0.4 over 0.5 under : ', 0)\n",
      "('group 6 = 0.5 over 0.6 under : ', 0)\n",
      "('group 7 = 0.6 over 0.7 under : ', 0)\n",
      "('group 8 = 0.7 over 0.8 under : ', 0)\n",
      "('group 9 = 0.8 over 0.9 under : ', 0)\n",
      "('group 10 = 0.9 over 1.0 under : ', 0)\n",
      "\n",
      "\n",
      "해당 그룹별 spammer 비율\n",
      "('group 1 = 0.0 over 0.1 under : ', 100.0)\n",
      "('group 2 = 0.1 over 0.2 under : ', 0.0)\n",
      "('group 3 = 0.2 over 0.3 under : ', 0.0)\n",
      "('group 4 = 0.3 over 0.4 under : ', 0.0)\n",
      "('group 5 = 0.4 over 0.5 under : ', 0.0)\n",
      "('group 6 = 0.5 over 0.6 under : ', 0.0)\n",
      "('group 7 = 0.6 over 0.7 under : ', 0.0)\n",
      "('group 8 = 0.7 over 0.8 under : ', 0.0)\n",
      "('group 9 = 0.8 over 0.9 under : ', 0.0)\n",
      "('group 10 = 0.9 over 1.0 under : ', 0.0)\n",
      "\n",
      "\n"
     ]
    }
   ],
   "source": [
    "result_len = print_group(u'해당 그룹별 spammer 수', groups_q1, lambda x: x)\n",
    "result_ratio = print_group(u'해당 그룹별 spammer 비율', groups_q1, lambda x: float(\"{:.1f}\".format(1.0 * (x) * 100 / len(spammer))))"
   ]
  },
  {
   "cell_type": "code",
   "execution_count": 392,
   "metadata": {},
   "outputs": [
    {
     "data": {
      "image/png": "[encoded data removed]",
      "text/plain": [
       "<Figure size 432x288 with 1 Axes>"
      ]
     },
     "metadata": {},
     "output_type": "display_data"
    },
    {
     "data": {
      "image/png": "[encoded data removed]",
      "text/plain": [
       "<Figure size 432x288 with 1 Axes>"
      ]
     },
     "metadata": {},
     "output_type": "display_data"
    }
   ],
   "source": [
    "x=[u'0.1 under',u'0.1~0.2',u'0.2~0.3',u'0.3~0.4',u'0.4~0.5',u'0.5~0.6',u'0.6~0.7',u'0.7~0.8',u'0.8~0.9',u'0.9 over']\n",
    "y=result_len\n",
    "labels=y\n",
    "\n",
    "plt.plot(x,y,color='green',marker='o',linestyle='solid')\n",
    "plt.title('1st quartile of review similarity')\n",
    "plt.xlabel(\"similarity\")\n",
    "plt.ylabel(\"number of reviewer\")\n",
    "plt.xticks(np.arange(len(x)),x,rotation=45)\n",
    "for label, x_count, y_count in zip(labels, x, y):\n",
    "    plt.annotate(label,\n",
    "                 xy=(x_count, y_count), #label을 데이터포인트에 두되\n",
    "                 xytext=(3,-9), # 약간 떨어져 있게\n",
    "                 textcoords='offset points')\n",
    "plt.show()\n",
    "\n",
    "x=[u'0.1 under',u'0.1~0.2',u'0.2~0.3',u'0.3~0.4',u'0.4~0.5',u'0.5~0.6',u'0.6~0.7',u'0.7~0.8',u'0.8~0.9',u'0.9 over']\n",
    "y=result_ratio\n",
    "labels=y\n",
    "    \n",
    "plt.plot(x,y,color='blue',marker='o',linestyle='solid')\n",
    "plt.title('1st quartile of review similarity')\n",
    "plt.xlabel(\"similarity\")\n",
    "plt.ylabel(\"number of reviewer (%)\")\n",
    "plt.xticks(np.arange(len(x)),x,rotation=45)\n",
    "for label, x_count, y_count in zip(labels, x, y):\n",
    "    plt.annotate(label,\n",
    "                 xy=(x_count, y_count), #label을 데이터포인트에 두되\n",
    "                 xytext=(4,-7), # 약간 떨어져 있게\n",
    "                 textcoords='offset points')\n",
    "plt.show()"
   ]
  },
  {
   "cell_type": "code",
   "execution_count": null,
   "metadata": {
    "collapsed": true
   },
   "outputs": [],
   "source": []
  },
  {
   "cell_type": "markdown",
   "metadata": {},
   "source": [
    "# 형태소 품사 분석"
   ]
  },
  {
   "cell_type": "code",
   "execution_count": 313,
   "metadata": {
    "collapsed": true
   },
   "outputs": [],
   "source": [
    "spammer_desc=[]\n",
    "for i in range(len(spammer)):\n",
    "    spammer_desc.append(make_reviews(spammer[i]))"
   ]
  },
  {
   "cell_type": "code",
   "execution_count": 314,
   "metadata": {},
   "outputs": [
    {
     "data": {
      "text/plain": [
       "26"
      ]
     },
     "execution_count": 314,
     "metadata": {},
     "output_type": "execute_result"
    }
   ],
   "source": [
    "len(spammer_desc)"
   ]
  },
  {
   "cell_type": "code",
   "execution_count": 319,
   "metadata": {},
   "outputs": [
    {
     "name": "stdout",
     "output_type": "stream",
     "text": [
      "[예쁘네요 하트 귀엽고다만 일짜로 떨어지는게그냥 막대기식으로 고정 돼 있었으면..어땠을까 하는 ㅎㅎ자꾸 꾸깃꾸깃 되는 것 같아서ㅎㅎ 그래도 흔치않고 예뻐용,\n",
      " 예뻐요 맘에들어요 막 부담스러운 노출이 아니라서 괜찮은것 같아요 배송도 나름평균적으로 온 것같고! 흰색도 예쁠 것 같아요굿굿!,\n",
      " 음 생각보다는 별로였아요 약간 쫀쫀한 줄인둘 알았는데 어깨부분에 비해서 밑에는 살짝 라인들아가게만든가같은데 별로였어요 ㅜ 저렴한가격에득템해서 그냥 입으렵니다....! 배송은 조금 늦었지만 그래도 잘 왔어요~~~ 나름 괜찮네용,\n",
      " 예뻐욤,\n",
      " 니트 세일하는거중에 이 옷이 제일로 마음에들었어요 진짜 부드럽고 따뜻했어요 묵직한 부드러움이 아닝 가벼운 부드러움과 따뜻함이라서 진짜 좋았아요 색상별로 다 사고싶운 생각이 드네요.. 다른 니트 말고 이 나트를 색상별로 살걸 그랬는 후회중이네요! 고고싱 옷은 많은 옷들이 어깨선이 밑으로 쳐져서 더 붕떠보인 느낌이 들어서요.. 그렇지 않은 옷중에 괜찮은 옷입니다 이옷!,\n",
      " 모델이 입은거 보고 샀는데 생각보다 크네요... 많이 큰느낌 ! 그래도 묵직하니 따뜻할거 같긴 해요 색상도 따뜻해 보이고 마음에 드네요~ 이옷에 저렴한 가격으로 득템해서 좋네요~~ 다만 어깨부붐이 밑으로 안내려오고 사이즈별로 어깨넓이에 맞춰져있으면 합니다 ㅜㅜ..]\n"
     ]
    }
   ],
   "source": [
    "spammer_desc= [y for x in spammer_desc for y in x]\n",
    "pprint(spammer_desc[:6])"
   ]
  },
  {
   "cell_type": "code",
   "execution_count": 325,
   "metadata": {
    "collapsed": true
   },
   "outputs": [
    {
     "data": {
      "text/html": [
       "<div>\n",
       "<style>\n",
       "    .dataframe thead tr:only-child th {\n",
       "        text-align: right;\n",
       "    }\n",
       "\n",
       "    .dataframe thead th {\n",
       "        text-align: left;\n",
       "    }\n",
       "\n",
       "    .dataframe tbody tr th {\n",
       "        vertical-align: top;\n",
       "    }\n",
       "</style>\n",
       "<table border=\"1\" class=\"dataframe\">\n",
       "  <thead>\n",
       "    <tr style=\"text-align: right;\">\n",
       "      <th></th>\n",
       "      <th>spammer리뷰 품사</th>\n",
       "    </tr>\n",
       "  </thead>\n",
       "  <tbody>\n",
       "    <tr>\n",
       "      <th>Adjective</th>\n",
       "      <td>19058</td>\n",
       "    </tr>\n",
       "    <tr>\n",
       "      <th>Noun</th>\n",
       "      <td>67781</td>\n",
       "    </tr>\n",
       "    <tr>\n",
       "      <th>Verb</th>\n",
       "      <td>22744</td>\n",
       "    </tr>\n",
       "    <tr>\n",
       "      <th>Suffix</th>\n",
       "      <td>1514</td>\n",
       "    </tr>\n",
       "    <tr>\n",
       "      <th>Josa</th>\n",
       "      <td>25546</td>\n",
       "    </tr>\n",
       "    <tr>\n",
       "      <th>Punctuation</th>\n",
       "      <td>13298</td>\n",
       "    </tr>\n",
       "    <tr>\n",
       "      <th>KoreanParticle</th>\n",
       "      <td>5059</td>\n",
       "    </tr>\n",
       "    <tr>\n",
       "      <th>Adverb</th>\n",
       "      <td>4188</td>\n",
       "    </tr>\n",
       "    <tr>\n",
       "      <th>Determiner</th>\n",
       "      <td>1492</td>\n",
       "    </tr>\n",
       "    <tr>\n",
       "      <th>VerbPrefix</th>\n",
       "      <td>1307</td>\n",
       "    </tr>\n",
       "    <tr>\n",
       "      <th>Alpha</th>\n",
       "      <td>441</td>\n",
       "    </tr>\n",
       "    <tr>\n",
       "      <th>Number</th>\n",
       "      <td>1944</td>\n",
       "    </tr>\n",
       "    <tr>\n",
       "      <th>Conjunction</th>\n",
       "      <td>427</td>\n",
       "    </tr>\n",
       "    <tr>\n",
       "      <th>Foreign</th>\n",
       "      <td>774</td>\n",
       "    </tr>\n",
       "    <tr>\n",
       "      <th>Exclamation</th>\n",
       "      <td>282</td>\n",
       "    </tr>\n",
       "    <tr>\n",
       "      <th>NounPrefix</th>\n",
       "      <td>33</td>\n",
       "    </tr>\n",
       "    <tr>\n",
       "      <th>URL</th>\n",
       "      <td>6</td>\n",
       "    </tr>\n",
       "    <tr>\n",
       "      <th>Hashtag</th>\n",
       "      <td>1</td>\n",
       "    </tr>\n",
       "    <tr>\n",
       "      <th>ScreenName</th>\n",
       "      <td>1</td>\n",
       "    </tr>\n",
       "  </tbody>\n",
       "</table>\n",
       "</div>"
      ],
      "text/plain": [
       "                spammer리뷰 품사\n",
       "Adjective              19058\n",
       "Noun                   67781\n",
       "Verb                   22744\n",
       "Suffix                  1514\n",
       "Josa                   25546\n",
       "Punctuation            13298\n",
       "KoreanParticle          5059\n",
       "Adverb                  4188\n",
       "Determiner              1492\n",
       "VerbPrefix              1307\n",
       "Alpha                    441\n",
       "Number                  1944\n",
       "Conjunction              427\n",
       "Foreign                  774\n",
       "Exclamation              282\n",
       "NounPrefix                33\n",
       "URL                        6\n",
       "Hashtag                    1\n",
       "ScreenName                 1"
      ]
     },
     "execution_count": 325,
     "metadata": {},
     "output_type": "execute_result"
    }
   ],
   "source": [
    "split_n_desc=[]\n",
    "for i in range(len(spammer_desc)):\n",
    "    split_n_desc+= (twitter.pos(spammer_desc[i], norm=True, stem=True))\n",
    "    \n",
    "    \n",
    "# pos tagging frequencies for split_n_desc\n",
    "k_pos = []\n",
    "k_tag_count = [] \n",
    "for i in split_n_desc:\n",
    "    k_pos.append(i[1])\n",
    "\n",
    "k_pos = list(set(k_pos))\n",
    "\n",
    "k_data = dict(Counter(elem[1] for elem in split_n_desc))\n",
    "\n",
    "n_table= pd.DataFrame(index = ['spammer리뷰 품사'],\n",
    "                     columns = k_pos,\n",
    "                     data = k_data)\n",
    "\n",
    "n_table=n_table.T\n",
    "n_table"
   ]
  },
  {
   "cell_type": "code",
   "execution_count": 327,
   "metadata": {},
   "outputs": [
    {
     "data": {
      "text/html": [
       "<div>\n",
       "<style>\n",
       "    .dataframe thead tr:only-child th {\n",
       "        text-align: right;\n",
       "    }\n",
       "\n",
       "    .dataframe thead th {\n",
       "        text-align: left;\n",
       "    }\n",
       "\n",
       "    .dataframe tbody tr th {\n",
       "        vertical-align: top;\n",
       "    }\n",
       "</style>\n",
       "<table border=\"1\" class=\"dataframe\">\n",
       "  <thead>\n",
       "    <tr style=\"text-align: right;\">\n",
       "      <th></th>\n",
       "      <th>spammer리뷰 품사</th>\n",
       "    </tr>\n",
       "  </thead>\n",
       "  <tbody>\n",
       "    <tr>\n",
       "      <th>Noun</th>\n",
       "      <td>67781</td>\n",
       "    </tr>\n",
       "    <tr>\n",
       "      <th>Josa</th>\n",
       "      <td>25546</td>\n",
       "    </tr>\n",
       "    <tr>\n",
       "      <th>Verb</th>\n",
       "      <td>22744</td>\n",
       "    </tr>\n",
       "    <tr>\n",
       "      <th>Adjective</th>\n",
       "      <td>19058</td>\n",
       "    </tr>\n",
       "    <tr>\n",
       "      <th>Punctuation</th>\n",
       "      <td>13298</td>\n",
       "    </tr>\n",
       "    <tr>\n",
       "      <th>KoreanParticle</th>\n",
       "      <td>5059</td>\n",
       "    </tr>\n",
       "    <tr>\n",
       "      <th>Adverb</th>\n",
       "      <td>4188</td>\n",
       "    </tr>\n",
       "    <tr>\n",
       "      <th>Number</th>\n",
       "      <td>1944</td>\n",
       "    </tr>\n",
       "    <tr>\n",
       "      <th>Suffix</th>\n",
       "      <td>1514</td>\n",
       "    </tr>\n",
       "    <tr>\n",
       "      <th>Determiner</th>\n",
       "      <td>1492</td>\n",
       "    </tr>\n",
       "    <tr>\n",
       "      <th>VerbPrefix</th>\n",
       "      <td>1307</td>\n",
       "    </tr>\n",
       "    <tr>\n",
       "      <th>Foreign</th>\n",
       "      <td>774</td>\n",
       "    </tr>\n",
       "    <tr>\n",
       "      <th>Alpha</th>\n",
       "      <td>441</td>\n",
       "    </tr>\n",
       "    <tr>\n",
       "      <th>Conjunction</th>\n",
       "      <td>427</td>\n",
       "    </tr>\n",
       "    <tr>\n",
       "      <th>Exclamation</th>\n",
       "      <td>282</td>\n",
       "    </tr>\n",
       "    <tr>\n",
       "      <th>NounPrefix</th>\n",
       "      <td>33</td>\n",
       "    </tr>\n",
       "    <tr>\n",
       "      <th>URL</th>\n",
       "      <td>6</td>\n",
       "    </tr>\n",
       "    <tr>\n",
       "      <th>Hashtag</th>\n",
       "      <td>1</td>\n",
       "    </tr>\n",
       "    <tr>\n",
       "      <th>ScreenName</th>\n",
       "      <td>1</td>\n",
       "    </tr>\n",
       "  </tbody>\n",
       "</table>\n",
       "</div>"
      ],
      "text/plain": [
       "                spammer리뷰 품사\n",
       "Noun                   67781\n",
       "Josa                   25546\n",
       "Verb                   22744\n",
       "Adjective              19058\n",
       "Punctuation            13298\n",
       "KoreanParticle          5059\n",
       "Adverb                  4188\n",
       "Number                  1944\n",
       "Suffix                  1514\n",
       "Determiner              1492\n",
       "VerbPrefix              1307\n",
       "Foreign                  774\n",
       "Alpha                    441\n",
       "Conjunction              427\n",
       "Exclamation              282\n",
       "NounPrefix                33\n",
       "URL                        6\n",
       "Hashtag                    1\n",
       "ScreenName                 1"
      ]
     },
     "execution_count": 327,
     "metadata": {},
     "output_type": "execute_result"
    }
   ],
   "source": [
    "n_table.sort_values(by='spammer리뷰 품사', ascending=False)"
   ]
  },
  {
   "cell_type": "code",
   "execution_count": null,
   "metadata": {
    "collapsed": true
   },
   "outputs": [],
   "source": []
  }
 ],
 "metadata": {
  "kernelspec": {
   "display_name": "Python 3",
   "language": "python",
   "name": "python3"
  },
  "language_info": {
   "codemirror_mode": {
    "name": "ipython",
    "version": 3
   },
   "file_extension": ".py",
   "mimetype": "text/x-python",
   "name": "python",
   "nbconvert_exporter": "python",
   "pygments_lexer": "ipython3",
   "version": "3.6.6"
  }
 },
 "nbformat": 4,
 "nbformat_minor": 2
}
