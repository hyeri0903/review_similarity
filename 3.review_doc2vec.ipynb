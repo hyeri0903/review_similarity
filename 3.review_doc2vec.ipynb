{
 "cells": [
  {
   "cell_type": "code",
   "execution_count": 2,
   "metadata": {
    "collapsed": true
   },
   "outputs": [],
   "source": [
    "import pandas as pd\n",
    "import numpy as np\n",
    "import matplotlib.pyplot as plt\n",
    "import json\n",
    "import statistics\n",
    "\n",
    "from konlpy.tag import Twitter\n",
    "from konlpy.utils import pprint\n",
    "twitter = Twitter()\n",
    "from collections import Counter\n",
    "\n",
    "pd.set_option('max_colwidth', 500)"
   ]
  },
  {
   "cell_type": "code",
   "execution_count": 3,
   "metadata": {
    "collapsed": true
   },
   "outputs": [],
   "source": [
    "from konlpy.tag import Komoran\n",
    "komoran=Komoran()"
   ]
  },
  {
   "cell_type": "code",
   "execution_count": 4,
   "metadata": {
    "collapsed": true
   },
   "outputs": [],
   "source": [
    " # 소수점 아래 3자리까지 나타내기, 4째자리에서 반올림\n",
    "def short_float(val):\n",
    "    value = float(\"{:.4f}\".format(val))\n",
    "    return value\n"
   ]
  },
  {
   "cell_type": "code",
   "execution_count": 5,
   "metadata": {
    "collapsed": true
   },
   "outputs": [],
   "source": [
    "def print_want_val(sm_list,used_func):\n",
    "    val=(used_func(sm_list))\n",
    "    val=short_float(val)\n",
    "    \n",
    "    return val"
   ]
  },
  {
   "cell_type": "code",
   "execution_count": 6,
   "metadata": {
    "collapsed": true
   },
   "outputs": [],
   "source": [
    "# 1. komoranlass\n",
    "def make_token_review_komoran(cid):\n",
    "    li=[]\n",
    "    df=(go_data.loc[go_data['cId']==cid, ['_id','desc','pID','rDate','rNo','rScore']])\n",
    "    df['token_review']=df['desc'].apply(tokenizer_komoran_morphs)\n",
    "    df=df.reset_index()\n",
    "    \n",
    "    label='r'\n",
    "    for i in range(len(df)):\n",
    "        li.append(label+ str(i+1))\n",
    "    df['label']=li\n",
    "    \n",
    "    return df"
   ]
  },
  {
   "cell_type": "code",
   "execution_count": 7,
   "metadata": {
    "collapsed": true
   },
   "outputs": [],
   "source": [
    "# 1. kkma class\n",
    "def make_token_review_kkma(cid):\n",
    "    li=[]\n",
    "    df=(go_data.loc[go_data['cId']==cid, ['_id','desc','pID','rDate','rNo','rScore']])\n",
    "    df['token_review']=df['desc'].apply(tokenizer_kkma_morphs)\n",
    "    df=df.reset_index()\n",
    "    \n",
    "    label='r'\n",
    "    for i in range(len(df)):\n",
    "        li.append(label+ str(i+1))\n",
    "    df['label']=li\n",
    "    \n",
    "    return df"
   ]
  },
  {
   "cell_type": "code",
   "execution_count": 8,
   "metadata": {
    "collapsed": true
   },
   "outputs": [],
   "source": [
    "# 1. token_review dataframe에 추가\n",
    "def make_token_review(cid):\n",
    "    li=[]\n",
    "    df=(go_data.loc[go_data['cId']==cid, ['cId','_id','desc','pID','rDate','rNo','rScore']])\n",
    "    df['token_review']=df['desc'].apply(tokenizer_twitter_morphs)\n",
    "    df=df.reset_index()\n",
    "    \n",
    "    label='r'\n",
    "    for i in range(len(df)):\n",
    "        li.append(label+ str(i+1))\n",
    "    df['label']=li\n",
    "    \n",
    "    return df"
   ]
  },
  {
   "cell_type": "code",
   "execution_count": 9,
   "metadata": {
    "collapsed": true
   },
   "outputs": [],
   "source": [
    "# 2. calculate similarity\n",
    "def make_similarity(df):\n",
    "    TaggedDocument = namedtuple('TaggedDocument', 'words tags')\n",
    "    tagged_train_docs = [TaggedDocument(d, c) for d, c in df[['token_review', 'label']].values]\n",
    "    \n",
    "    model= Doc2Vec(\n",
    "    dm=0,            # PV-DBOW / default 1\n",
    "    dbow_words=1,    # w2v simultaneous with DBOW d2v / default 0\n",
    "    window=8,        # distance between the predicted word and context words\n",
    "    size=300,        # vector size\n",
    "    alpha=0.025,     # learning-rate\n",
    "    seed=1234,\n",
    "    min_count=0,    # ignore with freq lower\n",
    "    min_alpha=0.025, # min learning-rate\n",
    "\n",
    "    hs = 1,          # hierarchical softmax / default 0\n",
    "    negative = 10,   # negative sampling / default 5\n",
    "    )\n",
    "    \n",
    "    model.build_vocab(tagged_train_docs, update=False)\n",
    "    print(\"model name: \", str(model))\n",
    "    \n",
    "    start = time()\n",
    "    for epoch in range(10):\n",
    "        model.train(tagged_train_docs, total_examples=model.corpus_count, epochs=model.iter)\n",
    "        model.alpha -= 0.002 # decrease the learning rate\n",
    "        model.min_alpha = model.alpha # fix the learning rate, no decay\n",
    "    end = time()\n",
    "    print(\"During Time: {}\".format(end-start))\n",
    "    \n",
    "    \n",
    "    sm=[]\n",
    "    for i in range(len(df)-1):\n",
    "        for j in range(i+1, len(df)):\n",
    "            val=model.wv.n_similarity(df['token_review'][i],df['token_review'][j])\n",
    "         #   print str(i+1) + str('번째 리뷰와') + str(j+1) + str('번째 리뷰 유사도: ')+ str(val)\n",
    "            sm.append(val)\n",
    "        \n",
    "    print str('최대값: ') + str(max(sm))\n",
    "    print str('상위25%: ') + str(np.percentile(sm,75))\n",
    "    print str('중간값: ') + str(np.percentile(sm,50))\n",
    "    print str('상위75%: ') + str(np.percentile(sm,25))\n",
    "    print str('평균: ') + str(np.mean(sm))\n",
    "    \n",
    "    return sm"
   ]
  },
  {
   "cell_type": "code",
   "execution_count": null,
   "metadata": {
    "collapsed": true
   },
   "outputs": [],
   "source": []
  },
  {
   "cell_type": "code",
   "execution_count": null,
   "metadata": {
    "collapsed": true
   },
   "outputs": [],
   "source": []
  },
  {
   "cell_type": "code",
   "execution_count": 11,
   "metadata": {
    "collapsed": true
   },
   "outputs": [],
   "source": [
    "import pandas as pd\n",
    "import numpy as np\n",
    "np.random.seed(0)\n",
    "from konlpy.tag import Twitter\n",
    "from sklearn.metrics.pairwise import linear_kernel, cosine_similarity\n",
    "\n",
    "twitter=Twitter()\n",
    "from sklearn.feature_extraction.text import TfidfVectorizer, CountVectorizer"
   ]
  },
  {
   "cell_type": "code",
   "execution_count": 12,
   "metadata": {
    "collapsed": true
   },
   "outputs": [],
   "source": [
    "from konlpy.tag import Kkma\n",
    "kkma=Kkma()"
   ]
  },
  {
   "cell_type": "code",
   "execution_count": 13,
   "metadata": {
    "collapsed": true
   },
   "outputs": [],
   "source": [
    "from gensim.models import Doc2Vec\n",
    "import sys\n",
    "import multiprocessing\n",
    "from time import time\n",
    "from collections import namedtuple"
   ]
  },
  {
   "cell_type": "code",
   "execution_count": 15,
   "metadata": {
    "collapsed": true
   },
   "outputs": [],
   "source": [
    "from nltk.tokenize import word_tokenize\n",
    "import nltk"
   ]
  },
  {
   "cell_type": "code",
   "execution_count": 20,
   "metadata": {
    "collapsed": true
   },
   "outputs": [],
   "source": [
    "go_cid=list(go_cid)"
   ]
  },
  {
   "cell_type": "code",
   "execution_count": 21,
   "metadata": {},
   "outputs": [
    {
     "data": {
      "text/plain": [
       "92802"
      ]
     },
     "execution_count": 21,
     "metadata": {},
     "output_type": "execute_result"
    }
   ],
   "source": [
    "go_cid=go_cid[1:]\n",
    "len(go_cid) # review 1개 작성자, 네이버페이구매자 제외"
   ]
  },
  {
   "cell_type": "code",
   "execution_count": null,
   "metadata": {
    "collapsed": true
   },
   "outputs": [],
   "source": []
  },
  {
   "cell_type": "code",
   "execution_count": 27,
   "metadata": {
    "collapsed": true
   },
   "outputs": [],
   "source": [
    "def tokenizer_twitter_morphs(doc):\n",
    "    return twitter.morphs(doc)\n",
    "def tokenizer_twitter_nouns(doc):\n",
    "    return twitter.nouns(doc)\n",
    "def tokenizer_twitter_pos(doc):\n",
    "    return twitter.pos(doc, norm=True, stem=True)"
   ]
  },
  {
   "cell_type": "code",
   "execution_count": 28,
   "metadata": {
    "collapsed": true
   },
   "outputs": [],
   "source": [
    "def tokenizer_kkma_morphs(doc):\n",
    "    return kkma.morphs(doc)\n",
    "def tokenizer_kkma_nouns(doc):\n",
    "    return kkma.nouns(doc)\n",
    "def tokenizer_kkma_pos(doc):\n",
    "    return kkma.pos(doc)"
   ]
  },
  {
   "cell_type": "code",
   "execution_count": 29,
   "metadata": {
    "collapsed": true
   },
   "outputs": [],
   "source": [
    "def tokenizer_komoran_morphs(doc):\n",
    "    return komoran.morphs(doc)"
   ]
  },
  {
   "cell_type": "code",
   "execution_count": 30,
   "metadata": {},
   "outputs": [
    {
     "name": "stderr",
     "output_type": "stream",
     "text": [
      "/usr/local/lib/python2.7/dist-packages/ipykernel_launcher.py:1: SettingWithCopyWarning: \n",
      "A value is trying to be set on a copy of a slice from a DataFrame.\n",
      "Try using .loc[row_indexer,col_indexer] = value instead\n",
      "\n",
      "See the caveats in the documentation: http://pandas.pydata.org/pandas-docs/stable/indexing.html#indexing-view-versus-copy\n",
      "  \"\"\"Entry point for launching an IPython kernel.\n"
     ]
    }
   ],
   "source": [
    "df['token_review']=df['desc'].apply(tokenizer_twitter_morphs)"
   ]
  },
  {
   "cell_type": "code",
   "execution_count": 31,
   "metadata": {
    "collapsed": true
   },
   "outputs": [],
   "source": [
    "import random"
   ]
  },
  {
   "cell_type": "code",
   "execution_count": 515,
   "metadata": {
    "collapsed": true
   },
   "outputs": [],
   "source": [
    "test_cid=random.sample(go_cid,1000)"
   ]
  },
  {
   "cell_type": "code",
   "execution_count": 516,
   "metadata": {},
   "outputs": [
    {
     "data": {
      "text/plain": [
       "1000"
      ]
     },
     "execution_count": 516,
     "metadata": {},
     "output_type": "execute_result"
    }
   ],
   "source": [
    "len(test_cid)"
   ]
  },
  {
   "cell_type": "code",
   "execution_count": 517,
   "metadata": {},
   "outputs": [
    {
     "data": {
      "text/plain": [
       "[u'userna**',\n",
       " u'duddnd00**',\n",
       " u'eunyoun**',\n",
       " u'syl03**',\n",
       " u'57687026**',\n",
       " u'zhfldk43**',\n",
       " u'bj12**',\n",
       " u'ysyoung01**',\n",
       " u'500899323422769**',\n",
       " u'ssllc**']"
      ]
     },
     "execution_count": 517,
     "metadata": {},
     "output_type": "execute_result"
    }
   ],
   "source": [
    "test_cid[:10]"
   ]
  },
  {
   "cell_type": "markdown",
   "metadata": {},
   "source": [
    "1천명"
   ]
  },
  {
   "cell_type": "code",
   "execution_count": 518,
   "metadata": {
    "scrolled": true
   },
   "outputs": [
    {
     "data": {
      "text/plain": [
       "1000"
      ]
     },
     "execution_count": 518,
     "metadata": {},
     "output_type": "execute_result"
    }
   ],
   "source": [
    "len(test_cid)"
   ]
  },
  {
   "cell_type": "code",
   "execution_count": null,
   "metadata": {},
   "outputs": [],
   "source": [
    "max_list=[]\n",
    "mid_list=[]\n",
    "q1_list=[]\n",
    "q3_list=[]\n",
    "\n",
    "for i in range(len(test_cid)):\n",
    "    print str(i+1) + str('번째 리뷰어: ')+ str(test_cid[i].encode('utf-8'))\n",
    "    re=make_token_review(test_cid[i])\n",
    "    \n",
    "    sm=make_similarity(re)\n",
    "\n",
    "  \n",
    "    result_max= print_want_val(sm, lambda x: np.percentile(sm,100)) # 최대값 반환 \n",
    "    print (\"max: \", result_max)\n",
    "    max_list.append(result_max)\n",
    "       \n",
    "    result_q3 = print_want_val(sm, lambda x: np.percentile(sm,75)) #상위 25%\n",
    "    print(\"3rd quartile: \", result_q3)         \n",
    "    q3_list.append(result_q3)\n",
    "    \n",
    "    result_mid = print_want_val(sm, lambda x: np.percentile(sm,50)) # 중간값 반환 \n",
    "    print (\"median: \", result_mid)\n",
    "    mid_list.append(result_mid)\n",
    "    \n",
    "    result_q1 = print_want_val(sm, lambda x: np.percentile(sm,25)) # 상위 75%\n",
    "    print(\"1st quartile: \", result_q1)\n",
    "    q1_list.append(result_q1)\n",
    "   \n",
    "\n",
    "    print(\"\\n\")"
   ]
  },
  {
   "cell_type": "code",
   "execution_count": 520,
   "metadata": {},
   "outputs": [
    {
     "data": {
      "text/html": [
       "<div>\n",
       "<style>\n",
       "    .dataframe thead tr:only-child th {\n",
       "        text-align: right;\n",
       "    }\n",
       "\n",
       "    .dataframe thead th {\n",
       "        text-align: left;\n",
       "    }\n",
       "\n",
       "    .dataframe tbody tr th {\n",
       "        vertical-align: top;\n",
       "    }\n",
       "</style>\n",
       "<table border=\"1\" class=\"dataframe\">\n",
       "  <thead>\n",
       "    <tr style=\"text-align: right;\">\n",
       "      <th></th>\n",
       "      <th>cId</th>\n",
       "      <th>_max</th>\n",
       "      <th>q3</th>\n",
       "      <th>mid</th>\n",
       "      <th>q1</th>\n",
       "    </tr>\n",
       "  </thead>\n",
       "  <tbody>\n",
       "  </tbody>\n",
       "</table>\n",
       "</div>"
      ],
      "text/plain": [
       "Empty DataFrame\n",
       "Columns: [cId, _max, q3, mid, q1]\n",
       "Index: []"
      ]
     },
     "execution_count": 520,
     "metadata": {},
     "output_type": "execute_result"
    }
   ],
   "source": [
    "test_df=pd.DataFrame(columns=['cId','_max', 'q3','mid', 'q1'])\n",
    "test_df"
   ]
  },
  {
   "cell_type": "code",
   "execution_count": 521,
   "metadata": {
    "collapsed": true
   },
   "outputs": [],
   "source": [
    "test_df['cId']=test_cid\n",
    "test_df['_max']=max_list\n",
    "test_df['q3']=q3_list\n",
    "test_df['mid']=mid_list\n",
    "test_df['q1']=q1_list"
   ]
  },
  {
   "cell_type": "code",
   "execution_count": 523,
   "metadata": {},
   "outputs": [
    {
     "data": {
      "text/plain": [
       "count    1000.000000\n",
       "mean        0.894901\n",
       "std         0.118538\n",
       "min        -0.050800\n",
       "25%         0.825050\n",
       "50%         0.931900\n",
       "75%         0.996625\n",
       "max         1.000000\n",
       "Name: _max, dtype: float64"
      ]
     },
     "execution_count": 523,
     "metadata": {},
     "output_type": "execute_result"
    }
   ],
   "source": [
    "test_df._max.describe()"
   ]
  },
  {
   "cell_type": "code",
   "execution_count": 524,
   "metadata": {},
   "outputs": [
    {
     "data": {
      "text/plain": [
       "count    1000.000000\n",
       "mean        0.811161\n",
       "std         0.158637\n",
       "min        -0.050800\n",
       "25%         0.666925\n",
       "50%         0.810750\n",
       "75%         0.984800\n",
       "max         1.000000\n",
       "Name: q3, dtype: float64"
      ]
     },
     "execution_count": 524,
     "metadata": {},
     "output_type": "execute_result"
    }
   ],
   "source": [
    "test_df.q3.describe()"
   ]
  },
  {
   "cell_type": "code",
   "execution_count": 525,
   "metadata": {},
   "outputs": [
    {
     "data": {
      "text/plain": [
       "count    1000.000000\n",
       "mean        0.766181\n",
       "std         0.188299\n",
       "min        -0.050800\n",
       "25%         0.595475\n",
       "50%         0.743250\n",
       "75%         0.980925\n",
       "max         1.000000\n",
       "Name: mid, dtype: float64"
      ]
     },
     "execution_count": 525,
     "metadata": {},
     "output_type": "execute_result"
    }
   ],
   "source": [
    "test_df.mid.describe()"
   ]
  },
  {
   "cell_type": "code",
   "execution_count": 526,
   "metadata": {},
   "outputs": [
    {
     "data": {
      "text/plain": [
       "count    1000.000000\n",
       "mean        0.723317\n",
       "std         0.217033\n",
       "min        -0.050800\n",
       "25%         0.527075\n",
       "50%         0.676900\n",
       "75%         0.975875\n",
       "max         1.000000\n",
       "Name: q1, dtype: float64"
      ]
     },
     "execution_count": 526,
     "metadata": {},
     "output_type": "execute_result"
    }
   ],
   "source": [
    "test_df.q1.describe()"
   ]
  },
  {
   "cell_type": "code",
   "execution_count": 527,
   "metadata": {},
   "outputs": [
    {
     "name": "stdout",
     "output_type": "stream",
     "text": [
      "bj12**\n",
      "gusal71**\n",
      "nsm3**\n",
      "jes6**\n",
      "codusd**\n",
      "qorgprud1**\n"
     ]
    }
   ],
   "source": [
    "t_cid=[]\n",
    "for i in range(len(df)):\n",
    "    if(test_df['_max'][i]>=0.99 and test_df['q3'][i]>= 0.98 and test_df['mid'][i]>=0.98 and test_df['q1'][i]>=0.97):\n",
    "        print(test_df['cId'][i])\n",
    "        t_cid.append(test_df['cId'][i])"
   ]
  },
  {
   "cell_type": "code",
   "execution_count": 546,
   "metadata": {},
   "outputs": [
    {
     "data": {
      "text/html": [
       "<div>\n",
       "<style>\n",
       "    .dataframe thead tr:only-child th {\n",
       "        text-align: right;\n",
       "    }\n",
       "\n",
       "    .dataframe thead th {\n",
       "        text-align: left;\n",
       "    }\n",
       "\n",
       "    .dataframe tbody tr th {\n",
       "        vertical-align: top;\n",
       "    }\n",
       "</style>\n",
       "<table border=\"1\" class=\"dataframe\">\n",
       "  <thead>\n",
       "    <tr style=\"text-align: right;\">\n",
       "      <th></th>\n",
       "      <th>desc</th>\n",
       "      <th>rDate</th>\n",
       "      <th>rNo</th>\n",
       "      <th>rScore</th>\n",
       "      <th>pID</th>\n",
       "    </tr>\n",
       "  </thead>\n",
       "  <tbody>\n",
       "    <tr>\n",
       "      <th>336566</th>\n",
       "      <td>딱 이옷이 나왔을때 보자마자 아 남자친구랑 커플티로 해도 이쁘겠다 해서 바로 구매 했던거 같아요 주문 폭주일까봐 걱정하며 얼른 주문시켰던게 기억이 나네요 ㅎㅎ 남자친구한테 주니깐 이쁘다며 좋아하고 같이 입고 롯데월드 데이트 하구왔어요^^ 이쁘게 잘입었어요~~고맙습니다 다들 추천해요 튀지도 않고 딱 이쁜 단가라 티!!</td>\n",
       "      <td>2016. 05. 30</td>\n",
       "      <td>450301</td>\n",
       "      <td>5.0</td>\n",
       "      <td>31365</td>\n",
       "    </tr>\n",
       "    <tr>\n",
       "      <th>336567</th>\n",
       "      <td>편하게 입고 다닐수 있어서 좋아요 ㅎㅎㅎㅎ 사실 하체비만이여서 슬랙스 처럼 되지 않아서 아쉽지만 다이어트 해야겠어요 ㅎㅎㅎㅎ ㅠㅠㅠㅠㅠㅠㅠㅠㅠㅠㅠㅠㅠㅠㅠㅠㅠㅠㅠㅠㅠㅠㅠㅠㅠㅠㅠㅠㅠㅠㅠ 다이어트 화이팅 입니다.ㅜㅜㅜㅜ</td>\n",
       "      <td>2016. 05. 30</td>\n",
       "      <td>450300</td>\n",
       "      <td>5.0</td>\n",
       "      <td>22534</td>\n",
       "    </tr>\n",
       "    <tr>\n",
       "      <th>336569</th>\n",
       "      <td>평소에도 편하게 코디하고 다닐수 있어서 좋아효 이쁘고 딱 7부길이!! 고맙습니다.ㅎㅎㅎㅎㅎㅎㅎㅎㅎㅎㅎㅎㅎㅎㅎㅎㅎㅎㅎㅎㅎㅎㅎㅎㅎㅎㅎㅎㅎㅎㅎㅎㅎㅎㅎㅎㅎㅎㅎㅎㅎㅎㅎㅎㅎㅎㅎㅎㅎㅎㅎㅎㅎㅎㅎㅎㅎㅎㅎㅎㅎㅎㅎㅎㅎㅎㅎㅎㅎㅎㅎㅎㅎㅎㅎㅎㅎ</td>\n",
       "      <td>2016. 05. 30</td>\n",
       "      <td>450298</td>\n",
       "      <td>5.0</td>\n",
       "      <td>30972</td>\n",
       "    </tr>\n",
       "    <tr>\n",
       "      <th>356902</th>\n",
       "      <td>봏아욯ㅎㅎㅎㅎㅎㅎㅎㅎㅎㅎㅎㅎㅎㅎㅎㅎㅎㅎㅎㅎㅎㅎㅎㅎㅎㅎㅎㅎㅎㅎㅎㅎㅎㅎㅎㅎㅎㅎㅎㅎㅎㅎㅎㅎㅎㅎㅎㅎㅎㅎㅎㅎㅎㅎㅎㅎㅎㅎㅎㅎㅎㅎㅎㅎㅎㅎㅎㅎㅎㅎㅎㅎㅎㅎㅎㅎㅎㅎㅎㅎㅎㅎㅎㅎㅎㅎㅎㅎㅎㅎㅎㅎㅎㅎㅎㅎㅎㅎㅎㅎㅎㅎㅎㅎㅎㅎㅎㅎㅎㅎㅎㅎㅎㅎ</td>\n",
       "      <td>2016. 04. 17</td>\n",
       "      <td>428930</td>\n",
       "      <td>5.0</td>\n",
       "      <td>31353</td>\n",
       "    </tr>\n",
       "    <tr>\n",
       "      <th>364533</th>\n",
       "      <td>완전 편해요 진짜!!!!!      ㅎㅎㅎㅎㅎㅎㅎㅎㅎㅎㅎㅎㅎㅎㅎㅎㅎㅎㅎㅎㅎㅎㅎㅎㅎㅎㅎㅎㅎㅎㅎㅎㅎㅎㅎㅎㅎㅎㅎㅎㅎㅎㅎㅎㅎㅎㅎㅎㅎㅎㅎㅎㅎㅎㅎㅎㅎㅎㅎㅎㅎㅎㅎㅎㅎㅎㅎㅎㅎㅎㅎㅎㅎㅎㅎㅎㅎㅎㅎㅎㅎㅎㅎㅎㅎㅎㅎㅎㅎㅎㅎㅎㅎㅎㅎㅎㅎㅎㅎㅎㅎㅎㅎㅎㅎㅎㅎㅎㅎㅎㅎㅎㅎㅎㅎㅎㅎㅎㅎㅎㅎㅎㅎㅎㅎㅎㅎㅎㅎㅎㅎㅎㅎㅎㅎㅎㅎㅎㅎㅎㅎㅎㅎㅎ</td>\n",
       "      <td>2016. 04. 01</td>\n",
       "      <td>421145</td>\n",
       "      <td>5.0</td>\n",
       "      <td>30810</td>\n",
       "    </tr>\n",
       "    <tr>\n",
       "      <th>365630</th>\n",
       "      <td>ㄴㄴㄴㄴㄴㄴㄴㄴㄴㄴㄴㄴㄴㄴㄴㄴㄴㄴㄴㄴㄴㄴㄴㄴㄴㄴㄴㄴㄴㄴㄴㄴㄴㄴㄴㄴㄴㄴㄴㄴㄴㄴㄴㄴㄴㄴㄴㄴㄴㄴㄴㄴㄴㄴㄴㄴㄴㄴㄴㄴㄴㄴㄴㄴㄴㄴㄴㄴㄴ너무 작았어요ㅜㅜㅜㅜㅜㅜㅜㅜㅜㅜㅜㅜㅜㅜㅜㅜㅜㅜㅜㅜㅜㅜㅜㅜㅜㅜㅜ</td>\n",
       "      <td>2016. 03. 22</td>\n",
       "      <td>414932</td>\n",
       "      <td>5.0</td>\n",
       "      <td>31101</td>\n",
       "    </tr>\n",
       "    <tr>\n",
       "      <th>365631</th>\n",
       "      <td>품젛ㄹ렇ㅎㅎㅎㅎㅎㅎㅎㅎㅎㅎㅎㅎㅎㅎㅎㅎㅎㅎㅎㅎㅎㅎㅎㅎㅎㅎㅎㅎㅎㅎㅎㅎㅎㅎㅎㅎㅎㅎㅎㅎㅎㅎㅎㅎㅎㅎㅎㅎㅎㅎㅎㅎㅎㅎㅎㅎㅎㅎㅎㅎㅎㅎㅎㅎㅎㅎㅎㅎㅎㅎㅎㅎㅎㅎㅎㅎㅎㅎㅎㅎㅎㅎㅎㅎㅎㅎㅎㅎㅎㅎㅎㅎㅎㄴㄴㄴㄴㄴㄴㄴㄴㄴㄴㄴㄴㄴㄴㄴ</td>\n",
       "      <td>2016. 03. 22</td>\n",
       "      <td>414931</td>\n",
       "      <td>5.0</td>\n",
       "      <td>30972</td>\n",
       "    </tr>\n",
       "  </tbody>\n",
       "</table>\n",
       "</div>"
      ],
      "text/plain": [
       "                                                                                                                                                                                     desc  \\\n",
       "336566  딱 이옷이 나왔을때 보자마자 아 남자친구랑 커플티로 해도 이쁘겠다 해서 바로 구매 했던거 같아요 주문 폭주일까봐 걱정하며 얼른 주문시켰던게 기억이 나네요 ㅎㅎ 남자친구한테 주니깐 이쁘다며 좋아하고 같이 입고 롯데월드 데이트 하구왔어요^^ 이쁘게 잘입었어요~~고맙습니다 다들 추천해요 튀지도 않고 딱 이쁜 단가라 티!!   \n",
       "336567                                                            편하게 입고 다닐수 있어서 좋아요 ㅎㅎㅎㅎ 사실 하체비만이여서 슬랙스 처럼 되지 않아서 아쉽지만 다이어트 해야겠어요 ㅎㅎㅎㅎ ㅠㅠㅠㅠㅠㅠㅠㅠㅠㅠㅠㅠㅠㅠㅠㅠㅠㅠㅠㅠㅠㅠㅠㅠㅠㅠㅠㅠㅠㅠㅠ 다이어트 화이팅 입니다.ㅜㅜㅜㅜ   \n",
       "336569                                                         평소에도 편하게 코디하고 다닐수 있어서 좋아효 이쁘고 딱 7부길이!! 고맙습니다.ㅎㅎㅎㅎㅎㅎㅎㅎㅎㅎㅎㅎㅎㅎㅎㅎㅎㅎㅎㅎㅎㅎㅎㅎㅎㅎㅎㅎㅎㅎㅎㅎㅎㅎㅎㅎㅎㅎㅎㅎㅎㅎㅎㅎㅎㅎㅎㅎㅎㅎㅎㅎㅎㅎㅎㅎㅎㅎㅎㅎㅎㅎㅎㅎㅎㅎㅎㅎㅎㅎㅎㅎㅎㅎㅎㅎㅎ   \n",
       "356902                                                              봏아욯ㅎㅎㅎㅎㅎㅎㅎㅎㅎㅎㅎㅎㅎㅎㅎㅎㅎㅎㅎㅎㅎㅎㅎㅎㅎㅎㅎㅎㅎㅎㅎㅎㅎㅎㅎㅎㅎㅎㅎㅎㅎㅎㅎㅎㅎㅎㅎㅎㅎㅎㅎㅎㅎㅎㅎㅎㅎㅎㅎㅎㅎㅎㅎㅎㅎㅎㅎㅎㅎㅎㅎㅎㅎㅎㅎㅎㅎㅎㅎㅎㅎㅎㅎㅎㅎㅎㅎㅎㅎㅎㅎㅎㅎㅎㅎㅎㅎㅎㅎㅎㅎㅎㅎㅎㅎㅎㅎㅎㅎㅎㅎㅎㅎㅎ   \n",
       "364533               완전 편해요 진짜!!!!!      ㅎㅎㅎㅎㅎㅎㅎㅎㅎㅎㅎㅎㅎㅎㅎㅎㅎㅎㅎㅎㅎㅎㅎㅎㅎㅎㅎㅎㅎㅎㅎㅎㅎㅎㅎㅎㅎㅎㅎㅎㅎㅎㅎㅎㅎㅎㅎㅎㅎㅎㅎㅎㅎㅎㅎㅎㅎㅎㅎㅎㅎㅎㅎㅎㅎㅎㅎㅎㅎㅎㅎㅎㅎㅎㅎㅎㅎㅎㅎㅎㅎㅎㅎㅎㅎㅎㅎㅎㅎㅎㅎㅎㅎㅎㅎㅎㅎㅎㅎㅎㅎㅎㅎㅎㅎㅎㅎㅎㅎㅎㅎㅎㅎㅎㅎㅎㅎㅎㅎㅎㅎㅎㅎㅎㅎㅎㅎㅎㅎㅎㅎㅎㅎㅎㅎㅎㅎㅎㅎㅎㅎㅎㅎㅎ   \n",
       "365630                                                                            ㄴㄴㄴㄴㄴㄴㄴㄴㄴㄴㄴㄴㄴㄴㄴㄴㄴㄴㄴㄴㄴㄴㄴㄴㄴㄴㄴㄴㄴㄴㄴㄴㄴㄴㄴㄴㄴㄴㄴㄴㄴㄴㄴㄴㄴㄴㄴㄴㄴㄴㄴㄴㄴㄴㄴㄴㄴㄴㄴㄴㄴㄴㄴㄴㄴㄴㄴㄴㄴ너무 작았어요ㅜㅜㅜㅜㅜㅜㅜㅜㅜㅜㅜㅜㅜㅜㅜㅜㅜㅜㅜㅜㅜㅜㅜㅜㅜㅜㅜ   \n",
       "365631                                                                   품젛ㄹ렇ㅎㅎㅎㅎㅎㅎㅎㅎㅎㅎㅎㅎㅎㅎㅎㅎㅎㅎㅎㅎㅎㅎㅎㅎㅎㅎㅎㅎㅎㅎㅎㅎㅎㅎㅎㅎㅎㅎㅎㅎㅎㅎㅎㅎㅎㅎㅎㅎㅎㅎㅎㅎㅎㅎㅎㅎㅎㅎㅎㅎㅎㅎㅎㅎㅎㅎㅎㅎㅎㅎㅎㅎㅎㅎㅎㅎㅎㅎㅎㅎㅎㅎㅎㅎㅎㅎㅎㅎㅎㅎㅎㅎㅎㄴㄴㄴㄴㄴㄴㄴㄴㄴㄴㄴㄴㄴㄴㄴ   \n",
       "\n",
       "               rDate     rNo  rScore    pID  \n",
       "336566  2016. 05. 30  450301     5.0  31365  \n",
       "336567  2016. 05. 30  450300     5.0  22534  \n",
       "336569  2016. 05. 30  450298     5.0  30972  \n",
       "356902  2016. 04. 17  428930     5.0  31353  \n",
       "364533  2016. 04. 01  421145     5.0  30810  \n",
       "365630  2016. 03. 22  414932     5.0  31101  \n",
       "365631  2016. 03. 22  414931     5.0  30972  "
      ]
     },
     "execution_count": 546,
     "metadata": {},
     "output_type": "execute_result"
    }
   ],
   "source": [
    "(go_data.loc[go_data['cId']=='hj44**'])[['desc','rDate','rNo','rScore','pID']]"
   ]
  },
  {
   "cell_type": "code",
   "execution_count": null,
   "metadata": {
    "collapsed": true
   },
   "outputs": [],
   "source": []
  },
  {
   "cell_type": "code",
   "execution_count": 583,
   "metadata": {},
   "outputs": [
    {
     "data": {
      "image/png": "[encoded data removed]",
      "text/plain": [
       "<Figure size 432x288 with 1 Axes>"
      ]
     },
     "metadata": {},
     "output_type": "display_data"
    }
   ],
   "source": [
    "x=np.arange(len(num))\n",
    "y=sorted(num)\n",
    "\n",
    "plt.plot(x,y,color='red',marker='o',linestyle='solid')\n",
    "plt.title('num of review')\n",
    "plt.xlabel(\"reviewer\")\n",
    "plt.ylabel(\"# of reviews\")\n",
    "plt.xticks(np.arange(len(x)),x,rotation=45)\n",
    "plt.show()"
   ]
  },
  {
   "cell_type": "code",
   "execution_count": null,
   "metadata": {
    "collapsed": true
   },
   "outputs": [],
   "source": []
  },
  {
   "cell_type": "code",
   "execution_count": null,
   "metadata": {
    "collapsed": true
   },
   "outputs": [],
   "source": []
  }
 ],
 "metadata": {
  "kernelspec": {
   "display_name": "Python 3",
   "language": "python",
   "name": "python3"
  },
  "language_info": {
   "codemirror_mode": {
    "name": "ipython",
    "version": 3
   },
   "file_extension": ".py",
   "mimetype": "text/x-python",
   "name": "python",
   "nbconvert_exporter": "python",
   "pygments_lexer": "ipython3",
   "version": "3.6.6"
  }
 },
 "nbformat": 4,
 "nbformat_minor": 2
}
