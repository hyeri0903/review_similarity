{
 "cells": [
  {
   "cell_type": "markdown",
   "metadata": {},
   "source": [
    "cid : 리뷰를 작성한 리뷰어의 ID\n",
    "\n",
    "rScore : 리뷰의 평점\n",
    "\n",
    "pID : 리뷰가 달린 상품의 ID\n",
    "\n",
    "desc : 리뷰의 내용\n",
    "\n",
    "rDate: 리뷰가 작성된 날짜\n",
    "\n",
    "rNo : 리뷰번호"
   ]
  },
  {
   "cell_type": "code",
   "execution_count": 23,
   "metadata": {},
   "outputs": [
    {
     "data": {
      "text/plain": [
       "Index([u'_id', u'bodySize', u'cId', u'desc', u'height', u'helpful', u'pColor',\n",
       "       u'pID', u'pSize', u'pTitle', u'pURL', u'rDate', u'rImages', u'rNo',\n",
       "       u'rScore', u'weight'],\n",
       "      dtype='object')"
      ]
     },
     "execution_count": 23,
     "metadata": {},
     "output_type": "execute_result"
    }
   ],
   "source": [
    "go_data.columns"
   ]
  },
  {
   "cell_type": "code",
   "execution_count": 2,
   "metadata": {
    "collapsed": true
   },
   "outputs": [],
   "source": [
    "import pandas as pd\n",
    "import numpy as np\n",
    "import matplotlib.pyplot as plt\n",
    "import json\n",
    "import statistics\n",
    "\n",
    "from konlpy.tag import Twitter\n",
    "from konlpy.utils import pprint\n",
    "from collections import Counter\n",
    "twitter = Twitter()"
   ]
  },
  {
   "cell_type": "code",
   "execution_count": 3,
   "metadata": {
    "collapsed": true
   },
   "outputs": [],
   "source": [
    "# 1.\n",
    "#reviewer의 desc를 담는 리스트\n",
    "def make_reviews(cid):\n",
    "    reviews=(go_data.loc[go_data['cId']==cid])['desc']\n",
    "    reviews=list(reviews)\n",
    "    \n",
    "    return reviews\n",
    "\n",
    "#1-1 \n",
    "    \n",
    "# 2.\n",
    "# review의 morphs를 담는 리스트\n",
    "def make_morphs(reviews):\n",
    "    \n",
    "    t=Twitter()\n",
    "    review_morphs=[]\n",
    "\n",
    "    for i in range(len(reviews)):\n",
    "        review_morphs.append(t.morphs(reviews[i]))\n",
    "        \n",
    "    morphs=[y for x in review_morphs for y in x]  #2중 list를 flatten하게 만듦\n",
    "    review_morphs= list(set(morphs))\n",
    "    \n",
    "    return review_morphs\n",
    "\n",
    "# 3.\n",
    "# term-frequency 함수\n",
    "def counting(reviews, review_morphs):\n",
    "   \n",
    "    tmp = dict()\n",
    "    for i in range(len(review_morphs)):\n",
    "        tmp[review_morphs[i]] = reviews.count(review_morphs[i])\n",
    "    return tmp  \n",
    "\n",
    "\n",
    "#review_list = review들(desc)을 모두 담은 list\n",
    "# term-frequency로 벡터화한 리뷰들을 담은 리스트를 만드는 함수\n",
    "\n",
    "def term_fre(reviews):\n",
    "    review_morphs=make_morphs(reviews)\n",
    "    review_vec_list=[]\n",
    "    for i in range(len(reviews)):  \n",
    "        review_vec_list.append(counting(reviews[i],review_morphs))\n",
    "    \n",
    "    return review_vec_list\n",
    "\n",
    "# 4. 만든 term-frequency를 table로 만들어 보기 쉽게하기\n",
    "def make_table(reviews):\n",
    "    vectors=term_fre(reviews)\n",
    "    table=pd.DataFrame(vectors)\n",
    "    return table\n",
    "\n",
    "# 5. 4에서 만든 table의 행(vector들)을 하나의 리스트에 담기 -> 각 리뷰의 벡터값들만 모은 리스트\n",
    "def table_to_review_vector(reviews):\n",
    "    table=make_table(reviews)\n",
    "    table_ix=table.index\n",
    "    review_vectors=[]\n",
    "    for i in range(len(table_ix)):\n",
    "        review_vectors.append(table.loc[table_ix[i]])\n",
    "    return review_vectors\n",
    "\n",
    " # 소수점 아래 3자리까지 나타내기, 4째자리에서 반올림\n",
    "def short_float(val):\n",
    "    value = float(\"{:.3f}\".format(val))\n",
    "    return value\n",
    "\n",
    "#cosine similarity 함수\n",
    "def similarity(x, y):\n",
    "    return np.dot(x, y) / (np.sqrt(np.dot(x, x)) * np.sqrt(np.dot(y, y)))\n",
    "\n",
    "#nCr 함수\n",
    "import math\n",
    "\n",
    "def nCr(n,r):\n",
    "    f = math.factorial\n",
    "    return f(n) / f(r) / f(n-r)"
   ]
  },
  {
   "cell_type": "code",
   "execution_count": 4,
   "metadata": {
    "collapsed": true
   },
   "outputs": [],
   "source": [
    "# 6. 리뷰의 유사도 구하기\n",
    "def review_similarity(review_vectors):\n",
    "    over_count=0\n",
    "    min=0\n",
    "    max=0\n",
    "    avg=0\n",
    "    sum=0 #모든 유사도의 합\n",
    "    sm=[] #similarity를 담을 리스트\n",
    "    cnt=0 # 유사도가 1인 개수\n",
    "    li=review_vectors\n",
    "    for i in range(len(li)-1):\n",
    "        for j in range(i+1,len(li)):\n",
    "            #print(i+1),;print(u'번째 리뷰와'),;print(j+1),;print(u'번째 리뷰 : '),;  print(similarity(li[i],li[j])); #유사도 구하기\n",
    "            val=short_float(similarity(li[i],li[j])) # 구한 유사도를 소수점 아래 3째자리까지 나타내기\n",
    "            sm.append(val)\n",
    "            if(val==1.0):\n",
    "                cnt+=1\n",
    "            \n",
    "    if(len(sm)>1):  # 리뷰를 3개이상 작성시\n",
    "        sum=sm[0]\n",
    "        min=sm[0]\n",
    "        max=sm[0]\n",
    "        for i in range(1,len(sm)):\n",
    "            sum+=sm[i]\n",
    "            if(min>sm[i]):\n",
    "                min=sm[i]\n",
    "            if(max<sm[i]):\n",
    "                max=sm[i]\n",
    "            if(sm[i]>=0.8):\n",
    "                over_count+=1\n",
    "                \n",
    "                \n",
    "    else: # 리뷰를 2개만 작성시\n",
    "        sum=sm[0]\n",
    "        min=sm[0]\n",
    "        max=sm[0]\n",
    "        if(sm[0]>=0.8):\n",
    "                over_count+=1\n",
    "\n",
    "    avg = short_float(sum/len(sm))\n",
    "\n",
    "    #print('similarity: ', sm)\n",
    "    print ('min', min)\n",
    "    print ('max', max)\n",
    "    print('num of similarity=0.8 over : ', over_count)\n",
    "    print('avg', avg)\n",
    "    print('# of similarity=1 ', cnt)\n",
    "    print('ratio of similarity=1: ', short_float((1.0*cnt/nCr(len(li),2))*100))\n",
    "    \n",
    "    return over_count\n",
    "       \n"
   ]
  },
  {
   "cell_type": "code",
   "execution_count": 6,
   "metadata": {},
   "outputs": [
    {
     "data": {
      "text/plain": [
       "772829"
      ]
     },
     "execution_count": 6,
     "metadata": {},
     "output_type": "execute_result"
    }
   ],
   "source": [
    "len(go_data) # 리뷰의 크기, 총 약 77만개의 리뷰 존재"
   ]
  },
  {
   "cell_type": "code",
   "execution_count": 11,
   "metadata": {},
   "outputs": [
    {
     "data": {
      "text/plain": [
       "138650"
      ]
     },
     "execution_count": 11,
     "metadata": {},
     "output_type": "execute_result"
    }
   ],
   "source": [
    "len(cid) # 리뷰어들의 수, 총 약 13만명의 리뷰어 존재"
   ]
  },
  {
   "cell_type": "code",
   "execution_count": 13,
   "metadata": {},
   "outputs": [
    {
     "data": {
      "text/plain": [
       "5.0    700708\n",
       "4.0     46769\n",
       "3.0     18178\n",
       "2.0      4563\n",
       "1.0      2611\n",
       "Name: rScore, dtype: int64"
      ]
     },
     "execution_count": 13,
     "metadata": {},
     "output_type": "execute_result"
    }
   ],
   "source": [
    "df=go_data['rScore'].value_counts()\n",
    "df"
   ]
  },
  {
   "cell_type": "code",
   "execution_count": 14,
   "metadata": {},
   "outputs": [
    {
     "data": {
      "text/plain": [
       "772829"
      ]
     },
     "execution_count": 14,
     "metadata": {},
     "output_type": "execute_result"
    }
   ],
   "source": [
    "len(go_data)"
   ]
  },
  {
   "cell_type": "code",
   "execution_count": 15,
   "metadata": {
    "scrolled": true
   },
   "outputs": [
    {
     "data": {
      "image/png": "[encoded data removed]",
      "text/plain": [
       "<Figure size 432x288 with 1 Axes>"
      ]
     },
     "metadata": {},
     "output_type": "display_data"
    },
    {
     "name": "stdout",
     "output_type": "stream",
     "text": [
      "ratio 5.0: 90.668\n",
      "ratio 4.0 : 6.052\n",
      "ratio 3.0: 2.352\n",
      "ratio 2.0 : 0.59\n",
      "ratio 1.0 : 0.338\n"
     ]
    }
   ],
   "source": [
    "score = ('total', '5.0', '4.0', '3.0', '2.0', '1.0')\n",
    "total=772829\n",
    "score5= 700708\n",
    "score4=46769\n",
    "score3= 18178\n",
    "score2= 4563\n",
    "score1=2611\n",
    "number_of_reviews = [total,\n",
    "                     score5,\n",
    "                     score4,\n",
    "                     score3,\n",
    "                     score2,\n",
    "                     score1]\n",
    "\n",
    "plt.bar(score, number_of_reviews, color=['blue'],\n",
    "        width=0.3, alpha=0.5)\n",
    "plt.xticks(score, fontsize=30)\n",
    "plt.yticks(fontsize=22)\n",
    "plt.ylabel('# of reviews', fontsize=25)\n",
    "plt.rcParams[\"figure.figsize\"] = (8,6)\n",
    "plt.xlabel('review rScore', fontsize=25)\n",
    "ax = plt.gca()\n",
    "ax.set_ylim([0.0, 772829])\n",
    "plt.show()\n",
    "\n",
    "\n",
    "print (\"ratio 5.0: \" + str(short_float(1.0*(score5)*100/total)))\n",
    "print (\"ratio 4.0 : \" + str(short_float(1.0*(score4)*100/total)))\n",
    "print (\"ratio 3.0: \" + str(short_float(1.0*(score3)*100/total)))\n",
    "print (\"ratio 2.0 : \" + str(short_float(1.0*(score2)*100/total)))\n",
    "print (\"ratio 1.0 : \" + str(short_float(1.0*(score1)*100/total)))\n"
   ]
  },
  {
   "cell_type": "code",
   "execution_count": null,
   "metadata": {
    "collapsed": true
   },
   "outputs": [],
   "source": [
    "spammer=[]\n",
    "one_reviewer=[]\n",
    "for i in range(len(cid)):\n",
    "    print(i+1),;print(u'번째 리뷰어');\n",
    "    reviews=make_reviews(cid[i])\n",
    "    make_morphs(reviews)\n",
    "    term_fre(reviews)\n",
    "    make_table(reviews)\n",
    "    vectors=table_to_review_vector(reviews)\n",
    "    if(len(reviews)>=2):\n",
    "        over_cnt=review_similarity(vectors)\n",
    "    else:\n",
    "        print('one reviewer')\n",
    "        one_reviewer.append(cid[i])\n",
    "        over_cnt=0\n",
    "    \n",
    "    if(over_cnt>=1): # 리뷰 유사도가 0.8 이상인 것의 개수\n",
    "        spammer.append(cid[i])"
   ]
  },
  {
   "cell_type": "code",
   "execution_count": null,
   "metadata": {
    "collapsed": true
   },
   "outputs": [],
   "source": []
  },
  {
   "cell_type": "code",
   "execution_count": null,
   "metadata": {
    "collapsed": true
   },
   "outputs": [],
   "source": []
  }
 ],
 "metadata": {
  "kernelspec": {
   "display_name": "Python 3",
   "language": "python",
   "name": "python3"
  },
  "language_info": {
   "codemirror_mode": {
    "name": "ipython",
    "version": 3
   },
   "file_extension": ".py",
   "mimetype": "text/x-python",
   "name": "python",
   "nbconvert_exporter": "python",
   "pygments_lexer": "ipython3",
   "version": "3.6.6"
  }
 },
 "nbformat": 4,
 "nbformat_minor": 2
}
